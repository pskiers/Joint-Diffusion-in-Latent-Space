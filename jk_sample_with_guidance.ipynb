{
 "cells": [
  {
   "cell_type": "code",
   "execution_count": 1,
   "metadata": {},
   "outputs": [
    {
     "name": "stderr",
     "output_type": "stream",
     "text": [
      "/home/jk/miniconda3/envs/ldm/lib/python3.8/site-packages/tqdm/auto.py:21: TqdmWarning: IProgress not found. Please update jupyter and ipywidgets. See https://ipywidgets.readthedocs.io/en/stable/user_install.html\n",
      "  from .autonotebook import tqdm as notebook_tqdm\n",
      "2024-02-22 05:11:28.721177: I tensorflow/core/util/port.cc:110] oneDNN custom operations are on. You may see slightly different numerical results due to floating-point round-off errors from different computation orders. To turn them off, set the environment variable `TF_ENABLE_ONEDNN_OPTS=0`.\n",
      "2024-02-22 05:11:28.724188: I tensorflow/tsl/cuda/cudart_stub.cc:28] Could not find cuda drivers on your machine, GPU will not be used.\n",
      "2024-02-22 05:11:28.781320: I tensorflow/core/platform/cpu_feature_guard.cc:182] This TensorFlow binary is optimized to use available CPU instructions in performance-critical operations.\n",
      "To enable the following instructions: AVX2 AVX512F AVX512_VNNI FMA, in other operations, rebuild TensorFlow with the appropriate compiler flags.\n",
      "2024-02-22 05:11:29.674745: W tensorflow/compiler/tf2tensorrt/utils/py_utils.cc:38] TF-TRT Warning: Could not find TensorRT\n"
     ]
    }
   ],
   "source": [
    "import torch\n",
    "import numpy as np\n",
    "import pandas as pd\n",
    "import seaborn as sns\n",
    "import matplotlib.pyplot as plt\n",
    "from matplotlib.offsetbox import AnnotationBbox, OffsetImage\n",
    "from tqdm import tqdm\n",
    "from omegaconf import OmegaConf\n",
    "import umap\n",
    "from models import JointLatentDiffusionMultilabel\n",
    "from datasets import ChestXRay_nih_bbox\n",
    "import torchvision as tv\n",
    "from ldm.util import default\n",
    "import matplotlib.pyplot as plt\n",
    "import matplotlib.patches as patches\n",
    "\n",
    "device = torch.device(\"cuda\") if torch.cuda.is_available() else torch.device(\"cpu\")\n",
    "\n",
    "from einops import rearrange, repeat\n",
    "from ldm.models.diffusion.ddim import DDIMSampler\n"
   ]
  },
  {
   "cell_type": "code",
   "execution_count": 2,
   "metadata": {},
   "outputs": [
    {
     "name": "stdout",
     "output_type": "stream",
     "text": [
      "JointLatentDiffusionMultilabel: Running in eps-prediction mode\n",
      "DiffusionWrapper has 402.65 M params.\n",
      "Keeping EMAs of 308.\n",
      "making attention of type 'vanilla' with 512 in_channels\n",
      "Working with z of shape (1, 4, 32, 32) = 4096 dimensions.\n",
      "making attention of type 'vanilla' with 512 in_channels\n",
      "Restored from /home/jk/Joint-Diffusion-in-Latent-Space/logs/compvis32x32x4_all_randomresizedcrop_Autoencoder_2024-01-17T13-15-27/checkpoints/epoch=000025.ckpt\n",
      "Training JointLatentDiffusionMultilabel as an unconditional model.\n",
      "Keeping EMAs of 312.\n",
      "Restored from logs/a2_jd_classweight0_001_JointLatentDiffusionMultilabel_2024-02-08T16-53-13/checkpoints/last.ckpt with 0 missing and 0 unexpected keys\n",
      "WARNING AUROC HARDCODEDDDD to 14 classes\n"
     ]
    },
    {
     "name": "stderr",
     "output_type": "stream",
     "text": [
      "/home/jk/miniconda3/envs/ldm/lib/python3.8/site-packages/torchmetrics/utilities/prints.py:36: UserWarning: Metric `AUROC` will save all targets and predictions in buffer. For large datasets this may lead to large memory footprint.\n",
      "  warnings.warn(*args, **kwargs)\n"
     ]
    },
    {
     "data": {
      "text/plain": [
       "JointLatentDiffusionMultilabel(\n",
       "  (model): DiffusionWrapper(\n",
       "    (diffusion_model): AdjustedUNet(\n",
       "      (time_embed): Sequential(\n",
       "        (0): Linear(in_features=320, out_features=1280, bias=True)\n",
       "        (1): SiLU()\n",
       "        (2): Linear(in_features=1280, out_features=1280, bias=True)\n",
       "      )\n",
       "      (input_blocks): ModuleList(\n",
       "        (0): TimestepEmbedSequential(\n",
       "          (0): Conv2d(4, 320, kernel_size=(3, 3), stride=(1, 1), padding=(1, 1))\n",
       "        )\n",
       "        (1-2): 2 x TimestepEmbedSequential(\n",
       "          (0): ResBlock(\n",
       "            (in_layers): Sequential(\n",
       "              (0): GroupNorm32(32, 320, eps=1e-05, affine=True)\n",
       "              (1): SiLU()\n",
       "              (2): Conv2d(320, 320, kernel_size=(3, 3), stride=(1, 1), padding=(1, 1))\n",
       "            )\n",
       "            (h_upd): Identity()\n",
       "            (x_upd): Identity()\n",
       "            (emb_layers): Sequential(\n",
       "              (0): SiLU()\n",
       "              (1): Linear(in_features=1280, out_features=320, bias=True)\n",
       "            )\n",
       "            (out_layers): Sequential(\n",
       "              (0): GroupNorm32(32, 320, eps=1e-05, affine=True)\n",
       "              (1): SiLU()\n",
       "              (2): Dropout(p=0, inplace=False)\n",
       "              (3): Conv2d(320, 320, kernel_size=(3, 3), stride=(1, 1), padding=(1, 1))\n",
       "            )\n",
       "            (skip_connection): Identity()\n",
       "          )\n",
       "          (1): AttentionBlock(\n",
       "            (norm): GroupNorm32(32, 320, eps=1e-05, affine=True)\n",
       "            (qkv): Conv1d(320, 960, kernel_size=(1,), stride=(1,))\n",
       "            (attention): QKVAttentionLegacy()\n",
       "            (proj_out): Conv1d(320, 320, kernel_size=(1,), stride=(1,))\n",
       "          )\n",
       "        )\n",
       "        (3): TimestepEmbedSequential(\n",
       "          (0): Downsample(\n",
       "            (op): Conv2d(320, 320, kernel_size=(3, 3), stride=(2, 2), padding=(1, 1))\n",
       "          )\n",
       "        )\n",
       "        (4): TimestepEmbedSequential(\n",
       "          (0): ResBlock(\n",
       "            (in_layers): Sequential(\n",
       "              (0): GroupNorm32(32, 320, eps=1e-05, affine=True)\n",
       "              (1): SiLU()\n",
       "              (2): Conv2d(320, 640, kernel_size=(3, 3), stride=(1, 1), padding=(1, 1))\n",
       "            )\n",
       "            (h_upd): Identity()\n",
       "            (x_upd): Identity()\n",
       "            (emb_layers): Sequential(\n",
       "              (0): SiLU()\n",
       "              (1): Linear(in_features=1280, out_features=640, bias=True)\n",
       "            )\n",
       "            (out_layers): Sequential(\n",
       "              (0): GroupNorm32(32, 640, eps=1e-05, affine=True)\n",
       "              (1): SiLU()\n",
       "              (2): Dropout(p=0, inplace=False)\n",
       "              (3): Conv2d(640, 640, kernel_size=(3, 3), stride=(1, 1), padding=(1, 1))\n",
       "            )\n",
       "            (skip_connection): Conv2d(320, 640, kernel_size=(1, 1), stride=(1, 1))\n",
       "          )\n",
       "          (1): AttentionBlock(\n",
       "            (norm): GroupNorm32(32, 640, eps=1e-05, affine=True)\n",
       "            (qkv): Conv1d(640, 1920, kernel_size=(1,), stride=(1,))\n",
       "            (attention): QKVAttentionLegacy()\n",
       "            (proj_out): Conv1d(640, 640, kernel_size=(1,), stride=(1,))\n",
       "          )\n",
       "        )\n",
       "        (5): TimestepEmbedSequential(\n",
       "          (0): ResBlock(\n",
       "            (in_layers): Sequential(\n",
       "              (0): GroupNorm32(32, 640, eps=1e-05, affine=True)\n",
       "              (1): SiLU()\n",
       "              (2): Conv2d(640, 640, kernel_size=(3, 3), stride=(1, 1), padding=(1, 1))\n",
       "            )\n",
       "            (h_upd): Identity()\n",
       "            (x_upd): Identity()\n",
       "            (emb_layers): Sequential(\n",
       "              (0): SiLU()\n",
       "              (1): Linear(in_features=1280, out_features=640, bias=True)\n",
       "            )\n",
       "            (out_layers): Sequential(\n",
       "              (0): GroupNorm32(32, 640, eps=1e-05, affine=True)\n",
       "              (1): SiLU()\n",
       "              (2): Dropout(p=0, inplace=False)\n",
       "              (3): Conv2d(640, 640, kernel_size=(3, 3), stride=(1, 1), padding=(1, 1))\n",
       "            )\n",
       "            (skip_connection): Identity()\n",
       "          )\n",
       "          (1): AttentionBlock(\n",
       "            (norm): GroupNorm32(32, 640, eps=1e-05, affine=True)\n",
       "            (qkv): Conv1d(640, 1920, kernel_size=(1,), stride=(1,))\n",
       "            (attention): QKVAttentionLegacy()\n",
       "            (proj_out): Conv1d(640, 640, kernel_size=(1,), stride=(1,))\n",
       "          )\n",
       "        )\n",
       "        (6): TimestepEmbedSequential(\n",
       "          (0): Downsample(\n",
       "            (op): Conv2d(640, 640, kernel_size=(3, 3), stride=(2, 2), padding=(1, 1))\n",
       "          )\n",
       "        )\n",
       "        (7): TimestepEmbedSequential(\n",
       "          (0): ResBlock(\n",
       "            (in_layers): Sequential(\n",
       "              (0): GroupNorm32(32, 640, eps=1e-05, affine=True)\n",
       "              (1): SiLU()\n",
       "              (2): Conv2d(640, 1280, kernel_size=(3, 3), stride=(1, 1), padding=(1, 1))\n",
       "            )\n",
       "            (h_upd): Identity()\n",
       "            (x_upd): Identity()\n",
       "            (emb_layers): Sequential(\n",
       "              (0): SiLU()\n",
       "              (1): Linear(in_features=1280, out_features=1280, bias=True)\n",
       "            )\n",
       "            (out_layers): Sequential(\n",
       "              (0): GroupNorm32(32, 1280, eps=1e-05, affine=True)\n",
       "              (1): SiLU()\n",
       "              (2): Dropout(p=0, inplace=False)\n",
       "              (3): Conv2d(1280, 1280, kernel_size=(3, 3), stride=(1, 1), padding=(1, 1))\n",
       "            )\n",
       "            (skip_connection): Conv2d(640, 1280, kernel_size=(1, 1), stride=(1, 1))\n",
       "          )\n",
       "          (1): AttentionBlock(\n",
       "            (norm): GroupNorm32(32, 1280, eps=1e-05, affine=True)\n",
       "            (qkv): Conv1d(1280, 3840, kernel_size=(1,), stride=(1,))\n",
       "            (attention): QKVAttentionLegacy()\n",
       "            (proj_out): Conv1d(1280, 1280, kernel_size=(1,), stride=(1,))\n",
       "          )\n",
       "        )\n",
       "        (8): TimestepEmbedSequential(\n",
       "          (0): ResBlock(\n",
       "            (in_layers): Sequential(\n",
       "              (0): GroupNorm32(32, 1280, eps=1e-05, affine=True)\n",
       "              (1): SiLU()\n",
       "              (2): Conv2d(1280, 1280, kernel_size=(3, 3), stride=(1, 1), padding=(1, 1))\n",
       "            )\n",
       "            (h_upd): Identity()\n",
       "            (x_upd): Identity()\n",
       "            (emb_layers): Sequential(\n",
       "              (0): SiLU()\n",
       "              (1): Linear(in_features=1280, out_features=1280, bias=True)\n",
       "            )\n",
       "            (out_layers): Sequential(\n",
       "              (0): GroupNorm32(32, 1280, eps=1e-05, affine=True)\n",
       "              (1): SiLU()\n",
       "              (2): Dropout(p=0, inplace=False)\n",
       "              (3): Conv2d(1280, 1280, kernel_size=(3, 3), stride=(1, 1), padding=(1, 1))\n",
       "            )\n",
       "            (skip_connection): Identity()\n",
       "          )\n",
       "          (1): AttentionBlock(\n",
       "            (norm): GroupNorm32(32, 1280, eps=1e-05, affine=True)\n",
       "            (qkv): Conv1d(1280, 3840, kernel_size=(1,), stride=(1,))\n",
       "            (attention): QKVAttentionLegacy()\n",
       "            (proj_out): Conv1d(1280, 1280, kernel_size=(1,), stride=(1,))\n",
       "          )\n",
       "        )\n",
       "      )\n",
       "      (middle_block): TimestepEmbedSequential(\n",
       "        (0): ResBlock(\n",
       "          (in_layers): Sequential(\n",
       "            (0): GroupNorm32(32, 1280, eps=1e-05, affine=True)\n",
       "            (1): SiLU()\n",
       "            (2): Conv2d(1280, 1280, kernel_size=(3, 3), stride=(1, 1), padding=(1, 1))\n",
       "          )\n",
       "          (h_upd): Identity()\n",
       "          (x_upd): Identity()\n",
       "          (emb_layers): Sequential(\n",
       "            (0): SiLU()\n",
       "            (1): Linear(in_features=1280, out_features=1280, bias=True)\n",
       "          )\n",
       "          (out_layers): Sequential(\n",
       "            (0): GroupNorm32(32, 1280, eps=1e-05, affine=True)\n",
       "            (1): SiLU()\n",
       "            (2): Dropout(p=0, inplace=False)\n",
       "            (3): Conv2d(1280, 1280, kernel_size=(3, 3), stride=(1, 1), padding=(1, 1))\n",
       "          )\n",
       "          (skip_connection): Identity()\n",
       "        )\n",
       "        (1): AttentionBlock(\n",
       "          (norm): GroupNorm32(32, 1280, eps=1e-05, affine=True)\n",
       "          (qkv): Conv1d(1280, 3840, kernel_size=(1,), stride=(1,))\n",
       "          (attention): QKVAttentionLegacy()\n",
       "          (proj_out): Conv1d(1280, 1280, kernel_size=(1,), stride=(1,))\n",
       "        )\n",
       "        (2): ResBlock(\n",
       "          (in_layers): Sequential(\n",
       "            (0): GroupNorm32(32, 1280, eps=1e-05, affine=True)\n",
       "            (1): SiLU()\n",
       "            (2): Conv2d(1280, 1280, kernel_size=(3, 3), stride=(1, 1), padding=(1, 1))\n",
       "          )\n",
       "          (h_upd): Identity()\n",
       "          (x_upd): Identity()\n",
       "          (emb_layers): Sequential(\n",
       "            (0): SiLU()\n",
       "            (1): Linear(in_features=1280, out_features=1280, bias=True)\n",
       "          )\n",
       "          (out_layers): Sequential(\n",
       "            (0): GroupNorm32(32, 1280, eps=1e-05, affine=True)\n",
       "            (1): SiLU()\n",
       "            (2): Dropout(p=0, inplace=False)\n",
       "            (3): Conv2d(1280, 1280, kernel_size=(3, 3), stride=(1, 1), padding=(1, 1))\n",
       "          )\n",
       "          (skip_connection): Identity()\n",
       "        )\n",
       "      )\n",
       "      (output_blocks): ModuleList(\n",
       "        (0-1): 2 x TimestepEmbedSequential(\n",
       "          (0): ResBlock(\n",
       "            (in_layers): Sequential(\n",
       "              (0): GroupNorm32(32, 2560, eps=1e-05, affine=True)\n",
       "              (1): SiLU()\n",
       "              (2): Conv2d(2560, 1280, kernel_size=(3, 3), stride=(1, 1), padding=(1, 1))\n",
       "            )\n",
       "            (h_upd): Identity()\n",
       "            (x_upd): Identity()\n",
       "            (emb_layers): Sequential(\n",
       "              (0): SiLU()\n",
       "              (1): Linear(in_features=1280, out_features=1280, bias=True)\n",
       "            )\n",
       "            (out_layers): Sequential(\n",
       "              (0): GroupNorm32(32, 1280, eps=1e-05, affine=True)\n",
       "              (1): SiLU()\n",
       "              (2): Dropout(p=0, inplace=False)\n",
       "              (3): Conv2d(1280, 1280, kernel_size=(3, 3), stride=(1, 1), padding=(1, 1))\n",
       "            )\n",
       "            (skip_connection): Conv2d(2560, 1280, kernel_size=(1, 1), stride=(1, 1))\n",
       "          )\n",
       "          (1): AttentionBlock(\n",
       "            (norm): GroupNorm32(32, 1280, eps=1e-05, affine=True)\n",
       "            (qkv): Conv1d(1280, 3840, kernel_size=(1,), stride=(1,))\n",
       "            (attention): QKVAttentionLegacy()\n",
       "            (proj_out): Conv1d(1280, 1280, kernel_size=(1,), stride=(1,))\n",
       "          )\n",
       "        )\n",
       "        (2): TimestepEmbedSequential(\n",
       "          (0): ResBlock(\n",
       "            (in_layers): Sequential(\n",
       "              (0): GroupNorm32(32, 1920, eps=1e-05, affine=True)\n",
       "              (1): SiLU()\n",
       "              (2): Conv2d(1920, 1280, kernel_size=(3, 3), stride=(1, 1), padding=(1, 1))\n",
       "            )\n",
       "            (h_upd): Identity()\n",
       "            (x_upd): Identity()\n",
       "            (emb_layers): Sequential(\n",
       "              (0): SiLU()\n",
       "              (1): Linear(in_features=1280, out_features=1280, bias=True)\n",
       "            )\n",
       "            (out_layers): Sequential(\n",
       "              (0): GroupNorm32(32, 1280, eps=1e-05, affine=True)\n",
       "              (1): SiLU()\n",
       "              (2): Dropout(p=0, inplace=False)\n",
       "              (3): Conv2d(1280, 1280, kernel_size=(3, 3), stride=(1, 1), padding=(1, 1))\n",
       "            )\n",
       "            (skip_connection): Conv2d(1920, 1280, kernel_size=(1, 1), stride=(1, 1))\n",
       "          )\n",
       "          (1): AttentionBlock(\n",
       "            (norm): GroupNorm32(32, 1280, eps=1e-05, affine=True)\n",
       "            (qkv): Conv1d(1280, 3840, kernel_size=(1,), stride=(1,))\n",
       "            (attention): QKVAttentionLegacy()\n",
       "            (proj_out): Conv1d(1280, 1280, kernel_size=(1,), stride=(1,))\n",
       "          )\n",
       "          (2): Upsample(\n",
       "            (conv): Conv2d(1280, 1280, kernel_size=(3, 3), stride=(1, 1), padding=(1, 1))\n",
       "          )\n",
       "        )\n",
       "        (3): TimestepEmbedSequential(\n",
       "          (0): ResBlock(\n",
       "            (in_layers): Sequential(\n",
       "              (0): GroupNorm32(32, 1920, eps=1e-05, affine=True)\n",
       "              (1): SiLU()\n",
       "              (2): Conv2d(1920, 640, kernel_size=(3, 3), stride=(1, 1), padding=(1, 1))\n",
       "            )\n",
       "            (h_upd): Identity()\n",
       "            (x_upd): Identity()\n",
       "            (emb_layers): Sequential(\n",
       "              (0): SiLU()\n",
       "              (1): Linear(in_features=1280, out_features=640, bias=True)\n",
       "            )\n",
       "            (out_layers): Sequential(\n",
       "              (0): GroupNorm32(32, 640, eps=1e-05, affine=True)\n",
       "              (1): SiLU()\n",
       "              (2): Dropout(p=0, inplace=False)\n",
       "              (3): Conv2d(640, 640, kernel_size=(3, 3), stride=(1, 1), padding=(1, 1))\n",
       "            )\n",
       "            (skip_connection): Conv2d(1920, 640, kernel_size=(1, 1), stride=(1, 1))\n",
       "          )\n",
       "          (1): AttentionBlock(\n",
       "            (norm): GroupNorm32(32, 640, eps=1e-05, affine=True)\n",
       "            (qkv): Conv1d(640, 1920, kernel_size=(1,), stride=(1,))\n",
       "            (attention): QKVAttentionLegacy()\n",
       "            (proj_out): Conv1d(640, 640, kernel_size=(1,), stride=(1,))\n",
       "          )\n",
       "        )\n",
       "        (4): TimestepEmbedSequential(\n",
       "          (0): ResBlock(\n",
       "            (in_layers): Sequential(\n",
       "              (0): GroupNorm32(32, 1280, eps=1e-05, affine=True)\n",
       "              (1): SiLU()\n",
       "              (2): Conv2d(1280, 640, kernel_size=(3, 3), stride=(1, 1), padding=(1, 1))\n",
       "            )\n",
       "            (h_upd): Identity()\n",
       "            (x_upd): Identity()\n",
       "            (emb_layers): Sequential(\n",
       "              (0): SiLU()\n",
       "              (1): Linear(in_features=1280, out_features=640, bias=True)\n",
       "            )\n",
       "            (out_layers): Sequential(\n",
       "              (0): GroupNorm32(32, 640, eps=1e-05, affine=True)\n",
       "              (1): SiLU()\n",
       "              (2): Dropout(p=0, inplace=False)\n",
       "              (3): Conv2d(640, 640, kernel_size=(3, 3), stride=(1, 1), padding=(1, 1))\n",
       "            )\n",
       "            (skip_connection): Conv2d(1280, 640, kernel_size=(1, 1), stride=(1, 1))\n",
       "          )\n",
       "          (1): AttentionBlock(\n",
       "            (norm): GroupNorm32(32, 640, eps=1e-05, affine=True)\n",
       "            (qkv): Conv1d(640, 1920, kernel_size=(1,), stride=(1,))\n",
       "            (attention): QKVAttentionLegacy()\n",
       "            (proj_out): Conv1d(640, 640, kernel_size=(1,), stride=(1,))\n",
       "          )\n",
       "        )\n",
       "        (5): TimestepEmbedSequential(\n",
       "          (0): ResBlock(\n",
       "            (in_layers): Sequential(\n",
       "              (0): GroupNorm32(32, 960, eps=1e-05, affine=True)\n",
       "              (1): SiLU()\n",
       "              (2): Conv2d(960, 640, kernel_size=(3, 3), stride=(1, 1), padding=(1, 1))\n",
       "            )\n",
       "            (h_upd): Identity()\n",
       "            (x_upd): Identity()\n",
       "            (emb_layers): Sequential(\n",
       "              (0): SiLU()\n",
       "              (1): Linear(in_features=1280, out_features=640, bias=True)\n",
       "            )\n",
       "            (out_layers): Sequential(\n",
       "              (0): GroupNorm32(32, 640, eps=1e-05, affine=True)\n",
       "              (1): SiLU()\n",
       "              (2): Dropout(p=0, inplace=False)\n",
       "              (3): Conv2d(640, 640, kernel_size=(3, 3), stride=(1, 1), padding=(1, 1))\n",
       "            )\n",
       "            (skip_connection): Conv2d(960, 640, kernel_size=(1, 1), stride=(1, 1))\n",
       "          )\n",
       "          (1): AttentionBlock(\n",
       "            (norm): GroupNorm32(32, 640, eps=1e-05, affine=True)\n",
       "            (qkv): Conv1d(640, 1920, kernel_size=(1,), stride=(1,))\n",
       "            (attention): QKVAttentionLegacy()\n",
       "            (proj_out): Conv1d(640, 640, kernel_size=(1,), stride=(1,))\n",
       "          )\n",
       "          (2): Upsample(\n",
       "            (conv): Conv2d(640, 640, kernel_size=(3, 3), stride=(1, 1), padding=(1, 1))\n",
       "          )\n",
       "        )\n",
       "        (6): TimestepEmbedSequential(\n",
       "          (0): ResBlock(\n",
       "            (in_layers): Sequential(\n",
       "              (0): GroupNorm32(32, 960, eps=1e-05, affine=True)\n",
       "              (1): SiLU()\n",
       "              (2): Conv2d(960, 320, kernel_size=(3, 3), stride=(1, 1), padding=(1, 1))\n",
       "            )\n",
       "            (h_upd): Identity()\n",
       "            (x_upd): Identity()\n",
       "            (emb_layers): Sequential(\n",
       "              (0): SiLU()\n",
       "              (1): Linear(in_features=1280, out_features=320, bias=True)\n",
       "            )\n",
       "            (out_layers): Sequential(\n",
       "              (0): GroupNorm32(32, 320, eps=1e-05, affine=True)\n",
       "              (1): SiLU()\n",
       "              (2): Dropout(p=0, inplace=False)\n",
       "              (3): Conv2d(320, 320, kernel_size=(3, 3), stride=(1, 1), padding=(1, 1))\n",
       "            )\n",
       "            (skip_connection): Conv2d(960, 320, kernel_size=(1, 1), stride=(1, 1))\n",
       "          )\n",
       "          (1): AttentionBlock(\n",
       "            (norm): GroupNorm32(32, 320, eps=1e-05, affine=True)\n",
       "            (qkv): Conv1d(320, 960, kernel_size=(1,), stride=(1,))\n",
       "            (attention): QKVAttentionLegacy()\n",
       "            (proj_out): Conv1d(320, 320, kernel_size=(1,), stride=(1,))\n",
       "          )\n",
       "        )\n",
       "        (7-8): 2 x TimestepEmbedSequential(\n",
       "          (0): ResBlock(\n",
       "            (in_layers): Sequential(\n",
       "              (0): GroupNorm32(32, 640, eps=1e-05, affine=True)\n",
       "              (1): SiLU()\n",
       "              (2): Conv2d(640, 320, kernel_size=(3, 3), stride=(1, 1), padding=(1, 1))\n",
       "            )\n",
       "            (h_upd): Identity()\n",
       "            (x_upd): Identity()\n",
       "            (emb_layers): Sequential(\n",
       "              (0): SiLU()\n",
       "              (1): Linear(in_features=1280, out_features=320, bias=True)\n",
       "            )\n",
       "            (out_layers): Sequential(\n",
       "              (0): GroupNorm32(32, 320, eps=1e-05, affine=True)\n",
       "              (1): SiLU()\n",
       "              (2): Dropout(p=0, inplace=False)\n",
       "              (3): Conv2d(320, 320, kernel_size=(3, 3), stride=(1, 1), padding=(1, 1))\n",
       "            )\n",
       "            (skip_connection): Conv2d(640, 320, kernel_size=(1, 1), stride=(1, 1))\n",
       "          )\n",
       "          (1): AttentionBlock(\n",
       "            (norm): GroupNorm32(32, 320, eps=1e-05, affine=True)\n",
       "            (qkv): Conv1d(320, 960, kernel_size=(1,), stride=(1,))\n",
       "            (attention): QKVAttentionLegacy()\n",
       "            (proj_out): Conv1d(320, 320, kernel_size=(1,), stride=(1,))\n",
       "          )\n",
       "        )\n",
       "      )\n",
       "      (out): Sequential(\n",
       "        (0): GroupNorm32(32, 320, eps=1e-05, affine=True)\n",
       "        (1): SiLU()\n",
       "        (2): Conv2d(320, 4, kernel_size=(3, 3), stride=(1, 1), padding=(1, 1))\n",
       "      )\n",
       "    )\n",
       "  )\n",
       "  (model_ema): LitEma()\n",
       "  (first_stage_model): AutoencoderKL(\n",
       "    (encoder): Encoder(\n",
       "      (conv_in): Conv2d(1, 128, kernel_size=(3, 3), stride=(1, 1), padding=(1, 1))\n",
       "      (down): ModuleList(\n",
       "        (0): Module(\n",
       "          (block): ModuleList(\n",
       "            (0-1): 2 x ResnetBlock(\n",
       "              (norm1): GroupNorm(32, 128, eps=1e-06, affine=True)\n",
       "              (conv1): Conv2d(128, 128, kernel_size=(3, 3), stride=(1, 1), padding=(1, 1))\n",
       "              (norm2): GroupNorm(32, 128, eps=1e-06, affine=True)\n",
       "              (dropout): Dropout(p=0.0, inplace=False)\n",
       "              (conv2): Conv2d(128, 128, kernel_size=(3, 3), stride=(1, 1), padding=(1, 1))\n",
       "            )\n",
       "          )\n",
       "          (attn): ModuleList()\n",
       "          (downsample): Downsample(\n",
       "            (conv): Conv2d(128, 128, kernel_size=(3, 3), stride=(2, 2))\n",
       "          )\n",
       "        )\n",
       "        (1): Module(\n",
       "          (block): ModuleList(\n",
       "            (0): ResnetBlock(\n",
       "              (norm1): GroupNorm(32, 128, eps=1e-06, affine=True)\n",
       "              (conv1): Conv2d(128, 256, kernel_size=(3, 3), stride=(1, 1), padding=(1, 1))\n",
       "              (norm2): GroupNorm(32, 256, eps=1e-06, affine=True)\n",
       "              (dropout): Dropout(p=0.0, inplace=False)\n",
       "              (conv2): Conv2d(256, 256, kernel_size=(3, 3), stride=(1, 1), padding=(1, 1))\n",
       "              (nin_shortcut): Conv2d(128, 256, kernel_size=(1, 1), stride=(1, 1))\n",
       "            )\n",
       "            (1): ResnetBlock(\n",
       "              (norm1): GroupNorm(32, 256, eps=1e-06, affine=True)\n",
       "              (conv1): Conv2d(256, 256, kernel_size=(3, 3), stride=(1, 1), padding=(1, 1))\n",
       "              (norm2): GroupNorm(32, 256, eps=1e-06, affine=True)\n",
       "              (dropout): Dropout(p=0.0, inplace=False)\n",
       "              (conv2): Conv2d(256, 256, kernel_size=(3, 3), stride=(1, 1), padding=(1, 1))\n",
       "            )\n",
       "          )\n",
       "          (attn): ModuleList()\n",
       "          (downsample): Downsample(\n",
       "            (conv): Conv2d(256, 256, kernel_size=(3, 3), stride=(2, 2))\n",
       "          )\n",
       "        )\n",
       "        (2): Module(\n",
       "          (block): ModuleList(\n",
       "            (0): ResnetBlock(\n",
       "              (norm1): GroupNorm(32, 256, eps=1e-06, affine=True)\n",
       "              (conv1): Conv2d(256, 512, kernel_size=(3, 3), stride=(1, 1), padding=(1, 1))\n",
       "              (norm2): GroupNorm(32, 512, eps=1e-06, affine=True)\n",
       "              (dropout): Dropout(p=0.0, inplace=False)\n",
       "              (conv2): Conv2d(512, 512, kernel_size=(3, 3), stride=(1, 1), padding=(1, 1))\n",
       "              (nin_shortcut): Conv2d(256, 512, kernel_size=(1, 1), stride=(1, 1))\n",
       "            )\n",
       "            (1): ResnetBlock(\n",
       "              (norm1): GroupNorm(32, 512, eps=1e-06, affine=True)\n",
       "              (conv1): Conv2d(512, 512, kernel_size=(3, 3), stride=(1, 1), padding=(1, 1))\n",
       "              (norm2): GroupNorm(32, 512, eps=1e-06, affine=True)\n",
       "              (dropout): Dropout(p=0.0, inplace=False)\n",
       "              (conv2): Conv2d(512, 512, kernel_size=(3, 3), stride=(1, 1), padding=(1, 1))\n",
       "            )\n",
       "          )\n",
       "          (attn): ModuleList()\n",
       "          (downsample): Downsample(\n",
       "            (conv): Conv2d(512, 512, kernel_size=(3, 3), stride=(2, 2))\n",
       "          )\n",
       "        )\n",
       "        (3): Module(\n",
       "          (block): ModuleList(\n",
       "            (0-1): 2 x ResnetBlock(\n",
       "              (norm1): GroupNorm(32, 512, eps=1e-06, affine=True)\n",
       "              (conv1): Conv2d(512, 512, kernel_size=(3, 3), stride=(1, 1), padding=(1, 1))\n",
       "              (norm2): GroupNorm(32, 512, eps=1e-06, affine=True)\n",
       "              (dropout): Dropout(p=0.0, inplace=False)\n",
       "              (conv2): Conv2d(512, 512, kernel_size=(3, 3), stride=(1, 1), padding=(1, 1))\n",
       "            )\n",
       "          )\n",
       "          (attn): ModuleList()\n",
       "        )\n",
       "      )\n",
       "      (mid): Module(\n",
       "        (block_1): ResnetBlock(\n",
       "          (norm1): GroupNorm(32, 512, eps=1e-06, affine=True)\n",
       "          (conv1): Conv2d(512, 512, kernel_size=(3, 3), stride=(1, 1), padding=(1, 1))\n",
       "          (norm2): GroupNorm(32, 512, eps=1e-06, affine=True)\n",
       "          (dropout): Dropout(p=0.0, inplace=False)\n",
       "          (conv2): Conv2d(512, 512, kernel_size=(3, 3), stride=(1, 1), padding=(1, 1))\n",
       "        )\n",
       "        (attn_1): AttnBlock(\n",
       "          (norm): GroupNorm(32, 512, eps=1e-06, affine=True)\n",
       "          (q): Conv2d(512, 512, kernel_size=(1, 1), stride=(1, 1))\n",
       "          (k): Conv2d(512, 512, kernel_size=(1, 1), stride=(1, 1))\n",
       "          (v): Conv2d(512, 512, kernel_size=(1, 1), stride=(1, 1))\n",
       "          (proj_out): Conv2d(512, 512, kernel_size=(1, 1), stride=(1, 1))\n",
       "        )\n",
       "        (block_2): ResnetBlock(\n",
       "          (norm1): GroupNorm(32, 512, eps=1e-06, affine=True)\n",
       "          (conv1): Conv2d(512, 512, kernel_size=(3, 3), stride=(1, 1), padding=(1, 1))\n",
       "          (norm2): GroupNorm(32, 512, eps=1e-06, affine=True)\n",
       "          (dropout): Dropout(p=0.0, inplace=False)\n",
       "          (conv2): Conv2d(512, 512, kernel_size=(3, 3), stride=(1, 1), padding=(1, 1))\n",
       "        )\n",
       "      )\n",
       "      (norm_out): GroupNorm(32, 512, eps=1e-06, affine=True)\n",
       "      (conv_out): Conv2d(512, 8, kernel_size=(3, 3), stride=(1, 1), padding=(1, 1))\n",
       "    )\n",
       "    (decoder): Decoder(\n",
       "      (conv_in): Conv2d(4, 512, kernel_size=(3, 3), stride=(1, 1), padding=(1, 1))\n",
       "      (mid): Module(\n",
       "        (block_1): ResnetBlock(\n",
       "          (norm1): GroupNorm(32, 512, eps=1e-06, affine=True)\n",
       "          (conv1): Conv2d(512, 512, kernel_size=(3, 3), stride=(1, 1), padding=(1, 1))\n",
       "          (norm2): GroupNorm(32, 512, eps=1e-06, affine=True)\n",
       "          (dropout): Dropout(p=0.0, inplace=False)\n",
       "          (conv2): Conv2d(512, 512, kernel_size=(3, 3), stride=(1, 1), padding=(1, 1))\n",
       "        )\n",
       "        (attn_1): AttnBlock(\n",
       "          (norm): GroupNorm(32, 512, eps=1e-06, affine=True)\n",
       "          (q): Conv2d(512, 512, kernel_size=(1, 1), stride=(1, 1))\n",
       "          (k): Conv2d(512, 512, kernel_size=(1, 1), stride=(1, 1))\n",
       "          (v): Conv2d(512, 512, kernel_size=(1, 1), stride=(1, 1))\n",
       "          (proj_out): Conv2d(512, 512, kernel_size=(1, 1), stride=(1, 1))\n",
       "        )\n",
       "        (block_2): ResnetBlock(\n",
       "          (norm1): GroupNorm(32, 512, eps=1e-06, affine=True)\n",
       "          (conv1): Conv2d(512, 512, kernel_size=(3, 3), stride=(1, 1), padding=(1, 1))\n",
       "          (norm2): GroupNorm(32, 512, eps=1e-06, affine=True)\n",
       "          (dropout): Dropout(p=0.0, inplace=False)\n",
       "          (conv2): Conv2d(512, 512, kernel_size=(3, 3), stride=(1, 1), padding=(1, 1))\n",
       "        )\n",
       "      )\n",
       "      (up): ModuleList(\n",
       "        (0): Module(\n",
       "          (block): ModuleList(\n",
       "            (0): ResnetBlock(\n",
       "              (norm1): GroupNorm(32, 256, eps=1e-06, affine=True)\n",
       "              (conv1): Conv2d(256, 128, kernel_size=(3, 3), stride=(1, 1), padding=(1, 1))\n",
       "              (norm2): GroupNorm(32, 128, eps=1e-06, affine=True)\n",
       "              (dropout): Dropout(p=0.0, inplace=False)\n",
       "              (conv2): Conv2d(128, 128, kernel_size=(3, 3), stride=(1, 1), padding=(1, 1))\n",
       "              (nin_shortcut): Conv2d(256, 128, kernel_size=(1, 1), stride=(1, 1))\n",
       "            )\n",
       "            (1-2): 2 x ResnetBlock(\n",
       "              (norm1): GroupNorm(32, 128, eps=1e-06, affine=True)\n",
       "              (conv1): Conv2d(128, 128, kernel_size=(3, 3), stride=(1, 1), padding=(1, 1))\n",
       "              (norm2): GroupNorm(32, 128, eps=1e-06, affine=True)\n",
       "              (dropout): Dropout(p=0.0, inplace=False)\n",
       "              (conv2): Conv2d(128, 128, kernel_size=(3, 3), stride=(1, 1), padding=(1, 1))\n",
       "            )\n",
       "          )\n",
       "          (attn): ModuleList()\n",
       "        )\n",
       "        (1): Module(\n",
       "          (block): ModuleList(\n",
       "            (0): ResnetBlock(\n",
       "              (norm1): GroupNorm(32, 512, eps=1e-06, affine=True)\n",
       "              (conv1): Conv2d(512, 256, kernel_size=(3, 3), stride=(1, 1), padding=(1, 1))\n",
       "              (norm2): GroupNorm(32, 256, eps=1e-06, affine=True)\n",
       "              (dropout): Dropout(p=0.0, inplace=False)\n",
       "              (conv2): Conv2d(256, 256, kernel_size=(3, 3), stride=(1, 1), padding=(1, 1))\n",
       "              (nin_shortcut): Conv2d(512, 256, kernel_size=(1, 1), stride=(1, 1))\n",
       "            )\n",
       "            (1-2): 2 x ResnetBlock(\n",
       "              (norm1): GroupNorm(32, 256, eps=1e-06, affine=True)\n",
       "              (conv1): Conv2d(256, 256, kernel_size=(3, 3), stride=(1, 1), padding=(1, 1))\n",
       "              (norm2): GroupNorm(32, 256, eps=1e-06, affine=True)\n",
       "              (dropout): Dropout(p=0.0, inplace=False)\n",
       "              (conv2): Conv2d(256, 256, kernel_size=(3, 3), stride=(1, 1), padding=(1, 1))\n",
       "            )\n",
       "          )\n",
       "          (attn): ModuleList()\n",
       "          (upsample): Upsample(\n",
       "            (conv): Conv2d(256, 256, kernel_size=(3, 3), stride=(1, 1), padding=(1, 1))\n",
       "          )\n",
       "        )\n",
       "        (2-3): 2 x Module(\n",
       "          (block): ModuleList(\n",
       "            (0-2): 3 x ResnetBlock(\n",
       "              (norm1): GroupNorm(32, 512, eps=1e-06, affine=True)\n",
       "              (conv1): Conv2d(512, 512, kernel_size=(3, 3), stride=(1, 1), padding=(1, 1))\n",
       "              (norm2): GroupNorm(32, 512, eps=1e-06, affine=True)\n",
       "              (dropout): Dropout(p=0.0, inplace=False)\n",
       "              (conv2): Conv2d(512, 512, kernel_size=(3, 3), stride=(1, 1), padding=(1, 1))\n",
       "            )\n",
       "          )\n",
       "          (attn): ModuleList()\n",
       "          (upsample): Upsample(\n",
       "            (conv): Conv2d(512, 512, kernel_size=(3, 3), stride=(1, 1), padding=(1, 1))\n",
       "          )\n",
       "        )\n",
       "      )\n",
       "      (norm_out): GroupNorm(32, 128, eps=1e-06, affine=True)\n",
       "      (conv_out): Conv2d(128, 1, kernel_size=(3, 3), stride=(1, 1), padding=(1, 1))\n",
       "    )\n",
       "    (loss): Identity()\n",
       "    (quant_conv): Conv2d(8, 8, kernel_size=(1, 1), stride=(1, 1))\n",
       "    (post_quant_conv): Conv2d(4, 4, kernel_size=(1, 1), stride=(1, 1))\n",
       "  )\n",
       "  (classifier): Sequential(\n",
       "    (0): Dropout(p=0.3, inplace=False)\n",
       "    (1): Linear(in_features=26240, out_features=3280, bias=True)\n",
       "    (2): LeakyReLU(negative_slope=0.2)\n",
       "    (3): Dropout(p=0.3, inplace=False)\n",
       "    (4): Linear(in_features=3280, out_features=15, bias=True)\n",
       "  )\n",
       "  (auroc_train): AUROC()\n",
       "  (auroc_val): AUROC()\n",
       ")"
      ]
     },
     "execution_count": 2,
     "metadata": {},
     "output_type": "execute_result"
    }
   ],
   "source": [
    "config = OmegaConf.load(\"logs/a2_jd_classweight0_001_JointLatentDiffusionMultilabel_2024-02-08T16-53-13/configs/config.yaml\")\n",
    "config.model.params[\"ckpt_path\"] = f\"logs/a2_jd_classweight0_001_JointLatentDiffusionMultilabel_2024-02-08T16-53-13/checkpoints/last.ckpt\"\n",
    "\n",
    "# config = OmegaConf.load(\"logs/a7_jd_lr10_4_bcew_JointLatentDiffusionMultilabel_2024-02-09T03-14-54/configs/config.yaml\")\n",
    "# config.model.params[\"ckpt_path\"] = f\"logs/a7_jd_lr10_4_bcew_JointLatentDiffusionMultilabel_2024-02-09T03-14-54/checkpoints/last.ckpt\"\n",
    "model = JointLatentDiffusionMultilabel(**config.model.get(\"params\", dict()))\n",
    "model.sampling_method='conditional_to_x'\n",
    "\n",
    "model.to(device)\n",
    "model.eval()\n"
   ]
  },
  {
   "cell_type": "code",
   "execution_count": 3,
   "metadata": {},
   "outputs": [],
   "source": [
    "model.sample_grad_scale=400"
   ]
  },
  {
   "cell_type": "code",
   "execution_count": 4,
   "metadata": {},
   "outputs": [],
   "source": [
    "def embed_imgs(model, data_loader, max_samples=1):\n",
    "    # Encode all images in the data_laoder using model, and return both images and encodings\n",
    "    img_list, embed_list, bbox_list, label_list = [], [], [], []\n",
    "\n",
    "    for imgs, bbox, label in tqdm(data_loader):\n",
    "        if len(imgs.shape) == 3:\n",
    "            imgs = imgs[..., None]\n",
    "        imgs = rearrange(imgs, 'b h w c -> b c h w')\n",
    "\n",
    "        with torch.no_grad():\n",
    "            encoder_posterior = model.encode_first_stage(imgs.cuda())\n",
    "            latent = model.get_first_stage_encoding(encoder_posterior).detach()\n",
    "            img_list.append(imgs.cpu())\n",
    "            embed_list.append(latent.cpu())\n",
    "            bbox_list.append(bbox)\n",
    "            label_list.append(label)\n",
    "        if max_samples is not None and len(img_list) > max_samples:\n",
    "            break\n",
    "    return (img_list, embed_list, bbox_list, label_list)"
   ]
  },
  {
   "cell_type": "code",
   "execution_count": 5,
   "metadata": {},
   "outputs": [
    {
     "name": "stdout",
     "output_type": "stream",
     "text": [
      "BBOX READ AS INT FIX IT\n"
     ]
    }
   ],
   "source": [
    "dataset = ChestXRay_nih_bbox(pick_class=\"Cardiomegaly\")\n",
    "dl = torch.utils.data.DataLoader(dataset, batch_size=1, shuffle=True)"
   ]
  },
  {
   "cell_type": "code",
   "execution_count": 6,
   "metadata": {},
   "outputs": [
    {
     "name": "stderr",
     "output_type": "stream",
     "text": [
      "  1%|          | 1/146 [00:00<00:41,  3.49it/s]\n"
     ]
    }
   ],
   "source": [
    "ret = embed_imgs(model, dl)"
   ]
  },
  {
   "cell_type": "code",
   "execution_count": 7,
   "metadata": {},
   "outputs": [
    {
     "data": {
      "text/plain": [
       "torch.Size([1, 4, 32, 32])"
      ]
     },
     "execution_count": 7,
     "metadata": {},
     "output_type": "execute_result"
    }
   ],
   "source": [
    "ret[1][0].shape"
   ]
  },
  {
   "cell_type": "code",
   "execution_count": 8,
   "metadata": {},
   "outputs": [
    {
     "data": {
      "text/plain": [
       "(torch.Size([1, 4, 32, 32]), torch.Size([1, 1, 256, 256]), torch.Size([1, 4]))"
      ]
     },
     "execution_count": 8,
     "metadata": {},
     "output_type": "execute_result"
    }
   ],
   "source": [
    "for img_original, z, bbox in zip(ret[0], ret[1], ret[2]):\n",
    "    num_timesteps = 1000\n",
    "    n_row = 12 #number of images to show\n",
    "    n_row = min(z.shape[0], n_row)\n",
    "    z = z.to(model.device)\n",
    "\n",
    "    # get diffusion row\n",
    "    diffusion_row = list()\n",
    "    z_start = z[:n_row]\n",
    "    ts = 200\n",
    "    t = repeat(torch.tensor([ts]), '1 -> b', b=n_row)\n",
    "    t = t.to(model.device).long()\n",
    "    noise = torch.randn_like(z_start)\n",
    "    z_noisy = model.q_sample(x_start=z_start, t=t, noise=noise)\n",
    "    break\n",
    "z_noisy.shape, img_original.shape, bbox.shape"
   ]
  },
  {
   "cell_type": "markdown",
   "metadata": {},
   "source": [
    "DDPM"
   ]
  },
  {
   "cell_type": "code",
   "execution_count": 9,
   "metadata": {},
   "outputs": [
    {
     "name": "stderr",
     "output_type": "stream",
     "text": [
      "Sampling t:   0%|          | 0/200 [00:00<?, ?it/s]"
     ]
    },
    {
     "name": "stdout",
     "output_type": "stream",
     "text": [
      "here tensor([[0.4493, 0.4315]], device='cuda:0', grad_fn=<SigmoidBackward0>) tensor([[0., 1.]], device='cuda:0')\n"
     ]
    },
    {
     "name": "stderr",
     "output_type": "stream",
     "text": [
      "Sampling t:   1%|          | 2/200 [00:01<01:45,  1.88it/s]"
     ]
    },
    {
     "name": "stdout",
     "output_type": "stream",
     "text": [
      "here tensor([[0.4492, 0.4316]], device='cuda:0', grad_fn=<SigmoidBackward0>) tensor([[0., 1.]], device='cuda:0')\n",
      "here tensor([[0.4492, 0.4321]], device='cuda:0', grad_fn=<SigmoidBackward0>) tensor([[0., 1.]], device='cuda:0')\n",
      "here tensor([[0.4496, 0.4326]], device='cuda:0', grad_fn=<SigmoidBackward0>) tensor([[0., 1.]], device='cuda:0')\n"
     ]
    },
    {
     "name": "stderr",
     "output_type": "stream",
     "text": [
      "Sampling t:   3%|▎         | 6/200 [00:01<00:35,  5.50it/s]"
     ]
    },
    {
     "name": "stdout",
     "output_type": "stream",
     "text": [
      "here tensor([[0.4496, 0.4330]], device='cuda:0', grad_fn=<SigmoidBackward0>) tensor([[0., 1.]], device='cuda:0')\n",
      "here tensor([[0.4497, 0.4331]], device='cuda:0', grad_fn=<SigmoidBackward0>) tensor([[0., 1.]], device='cuda:0')\n",
      "here tensor([[0.4498, 0.4334]], device='cuda:0', grad_fn=<SigmoidBackward0>) tensor([[0., 1.]], device='cuda:0')\n"
     ]
    },
    {
     "name": "stderr",
     "output_type": "stream",
     "text": [
      "Sampling t:   4%|▍         | 8/200 [00:01<00:28,  6.81it/s]"
     ]
    },
    {
     "name": "stdout",
     "output_type": "stream",
     "text": [
      "here tensor([[0.4497, 0.4335]], device='cuda:0', grad_fn=<SigmoidBackward0>) tensor([[0., 1.]], device='cuda:0')\n",
      "here tensor([[0.4499, 0.4335]], device='cuda:0', grad_fn=<SigmoidBackward0>) tensor([[0., 1.]], device='cuda:0')\n",
      "here tensor([[0.4499, 0.4337]], device='cuda:0', grad_fn=<SigmoidBackward0>) tensor([[0., 1.]], device='cuda:0')\n"
     ]
    },
    {
     "name": "stderr",
     "output_type": "stream",
     "text": [
      "Sampling t:   6%|▌         | 11/200 [00:02<00:23,  8.16it/s]"
     ]
    },
    {
     "name": "stdout",
     "output_type": "stream",
     "text": [
      "here tensor([[0.4497, 0.4339]], device='cuda:0', grad_fn=<SigmoidBackward0>) tensor([[0., 1.]], device='cuda:0')\n",
      "here tensor([[0.4496, 0.4335]], device='cuda:0', grad_fn=<SigmoidBackward0>) tensor([[0., 1.]], device='cuda:0')\n",
      "here tensor([[0.4495, 0.4334]], device='cuda:0', grad_fn=<SigmoidBackward0>) tensor([[0., 1.]], device='cuda:0')\n"
     ]
    },
    {
     "name": "stderr",
     "output_type": "stream",
     "text": [
      "Sampling t:   8%|▊         | 15/200 [00:02<00:19,  9.34it/s]"
     ]
    },
    {
     "name": "stdout",
     "output_type": "stream",
     "text": [
      "here tensor([[0.4493, 0.4335]], device='cuda:0', grad_fn=<SigmoidBackward0>) tensor([[0., 1.]], device='cuda:0')\n",
      "here tensor([[0.4493, 0.4339]], device='cuda:0', grad_fn=<SigmoidBackward0>) tensor([[0., 1.]], device='cuda:0')\n",
      "here tensor([[0.4493, 0.4341]], device='cuda:0', grad_fn=<SigmoidBackward0>) tensor([[0., 1.]], device='cuda:0')\n"
     ]
    },
    {
     "name": "stderr",
     "output_type": "stream",
     "text": [
      "Sampling t:   8%|▊         | 17/200 [00:02<00:19,  9.61it/s]"
     ]
    },
    {
     "name": "stdout",
     "output_type": "stream",
     "text": [
      "here tensor([[0.4492, 0.4346]], device='cuda:0', grad_fn=<SigmoidBackward0>) tensor([[0., 1.]], device='cuda:0')\n",
      "here tensor([[0.4497, 0.4350]], device='cuda:0', grad_fn=<SigmoidBackward0>) tensor([[0., 1.]], device='cuda:0')\n",
      "here tensor([[0.4498, 0.4353]], device='cuda:0', grad_fn=<SigmoidBackward0>) tensor([[0., 1.]], device='cuda:0')\n"
     ]
    },
    {
     "name": "stderr",
     "output_type": "stream",
     "text": [
      "Sampling t:  10%|█         | 21/200 [00:03<00:17,  9.99it/s]"
     ]
    },
    {
     "name": "stdout",
     "output_type": "stream",
     "text": [
      "here tensor([[0.4495, 0.4351]], device='cuda:0', grad_fn=<SigmoidBackward0>) tensor([[0., 1.]], device='cuda:0')\n",
      "here tensor([[0.4496, 0.4352]], device='cuda:0', grad_fn=<SigmoidBackward0>) tensor([[0., 1.]], device='cuda:0')\n",
      "here tensor([[0.4496, 0.4349]], device='cuda:0', grad_fn=<SigmoidBackward0>) tensor([[0., 1.]], device='cuda:0')\n"
     ]
    },
    {
     "name": "stderr",
     "output_type": "stream",
     "text": [
      "Sampling t:  12%|█▏        | 23/200 [00:03<00:17, 10.22it/s]"
     ]
    },
    {
     "name": "stdout",
     "output_type": "stream",
     "text": [
      "here tensor([[0.4497, 0.4349]], device='cuda:0', grad_fn=<SigmoidBackward0>) tensor([[0., 1.]], device='cuda:0')\n",
      "here tensor([[0.4496, 0.4349]], device='cuda:0', grad_fn=<SigmoidBackward0>) tensor([[0., 1.]], device='cuda:0')\n",
      "here tensor([[0.4499, 0.4348]], device='cuda:0', grad_fn=<SigmoidBackward0>) tensor([[0., 1.]], device='cuda:0')\n"
     ]
    },
    {
     "name": "stderr",
     "output_type": "stream",
     "text": [
      "Sampling t:  14%|█▎        | 27/200 [00:03<00:16, 10.45it/s]"
     ]
    },
    {
     "name": "stdout",
     "output_type": "stream",
     "text": [
      "here tensor([[0.4503, 0.4350]], device='cuda:0', grad_fn=<SigmoidBackward0>) tensor([[0., 1.]], device='cuda:0')\n",
      "here tensor([[0.4502, 0.4352]], device='cuda:0', grad_fn=<SigmoidBackward0>) tensor([[0., 1.]], device='cuda:0')\n",
      "here tensor([[0.4503, 0.4356]], device='cuda:0', grad_fn=<SigmoidBackward0>) tensor([[0., 1.]], device='cuda:0')\n"
     ]
    },
    {
     "name": "stderr",
     "output_type": "stream",
     "text": [
      "Sampling t:  14%|█▍        | 29/200 [00:03<00:16, 10.49it/s]"
     ]
    },
    {
     "name": "stdout",
     "output_type": "stream",
     "text": [
      "here tensor([[0.4501, 0.4358]], device='cuda:0', grad_fn=<SigmoidBackward0>) tensor([[0., 1.]], device='cuda:0')\n",
      "here tensor([[0.4501, 0.4352]], device='cuda:0', grad_fn=<SigmoidBackward0>) tensor([[0., 1.]], device='cuda:0')\n"
     ]
    },
    {
     "name": "stderr",
     "output_type": "stream",
     "text": [
      "Sampling t:  16%|█▌        | 31/200 [00:04<00:17,  9.87it/s]"
     ]
    },
    {
     "name": "stdout",
     "output_type": "stream",
     "text": [
      "here tensor([[0.4499, 0.4350]], device='cuda:0', grad_fn=<SigmoidBackward0>) tensor([[0., 1.]], device='cuda:0')\n",
      "here tensor([[0.4496, 0.4348]], device='cuda:0', grad_fn=<SigmoidBackward0>) tensor([[0., 1.]], device='cuda:0')\n",
      "here tensor([[0.4496, 0.4350]], device='cuda:0', grad_fn=<SigmoidBackward0>) tensor([[0., 1.]], device='cuda:0')\n"
     ]
    },
    {
     "name": "stderr",
     "output_type": "stream",
     "text": [
      "Sampling t:  18%|█▊        | 35/200 [00:04<00:16, 10.23it/s]"
     ]
    },
    {
     "name": "stdout",
     "output_type": "stream",
     "text": [
      "here tensor([[0.4495, 0.4356]], device='cuda:0', grad_fn=<SigmoidBackward0>) tensor([[0., 1.]], device='cuda:0')\n",
      "here tensor([[0.4496, 0.4359]], device='cuda:0', grad_fn=<SigmoidBackward0>) tensor([[0., 1.]], device='cuda:0')\n",
      "here tensor([[0.4498, 0.4363]], device='cuda:0', grad_fn=<SigmoidBackward0>) tensor([[0., 1.]], device='cuda:0')\n"
     ]
    },
    {
     "name": "stderr",
     "output_type": "stream",
     "text": [
      "Sampling t:  18%|█▊        | 37/200 [00:04<00:15, 10.25it/s]"
     ]
    },
    {
     "name": "stdout",
     "output_type": "stream",
     "text": [
      "here tensor([[0.4501, 0.4369]], device='cuda:0', grad_fn=<SigmoidBackward0>) tensor([[0., 1.]], device='cuda:0')\n",
      "here tensor([[0.4506, 0.4372]], device='cuda:0', grad_fn=<SigmoidBackward0>) tensor([[0., 1.]], device='cuda:0')\n",
      "here tensor([[0.4508, 0.4368]], device='cuda:0', grad_fn=<SigmoidBackward0>) tensor([[0., 1.]], device='cuda:0')\n"
     ]
    },
    {
     "name": "stderr",
     "output_type": "stream",
     "text": [
      "Sampling t:  20%|██        | 41/200 [00:05<00:15, 10.22it/s]"
     ]
    },
    {
     "name": "stdout",
     "output_type": "stream",
     "text": [
      "here tensor([[0.4504, 0.4368]], device='cuda:0', grad_fn=<SigmoidBackward0>) tensor([[0., 1.]], device='cuda:0')\n",
      "here tensor([[0.4502, 0.4366]], device='cuda:0', grad_fn=<SigmoidBackward0>) tensor([[0., 1.]], device='cuda:0')\n",
      "here tensor([[0.4497, 0.4361]], device='cuda:0', grad_fn=<SigmoidBackward0>) tensor([[0., 1.]], device='cuda:0')\n"
     ]
    },
    {
     "name": "stderr",
     "output_type": "stream",
     "text": [
      "Sampling t:  22%|██▏       | 43/200 [00:05<00:15, 10.16it/s]"
     ]
    },
    {
     "name": "stdout",
     "output_type": "stream",
     "text": [
      "here tensor([[0.4499, 0.4358]], device='cuda:0', grad_fn=<SigmoidBackward0>) tensor([[0., 1.]], device='cuda:0')\n",
      "here tensor([[0.4501, 0.4361]], device='cuda:0', grad_fn=<SigmoidBackward0>) tensor([[0., 1.]], device='cuda:0')\n",
      "here tensor([[0.4505, 0.4367]], device='cuda:0', grad_fn=<SigmoidBackward0>) tensor([[0., 1.]], device='cuda:0')\n"
     ]
    },
    {
     "name": "stderr",
     "output_type": "stream",
     "text": [
      "Sampling t:  24%|██▎       | 47/200 [00:05<00:15, 10.09it/s]"
     ]
    },
    {
     "name": "stdout",
     "output_type": "stream",
     "text": [
      "here tensor([[0.4508, 0.4368]], device='cuda:0', grad_fn=<SigmoidBackward0>) tensor([[0., 1.]], device='cuda:0')\n",
      "here tensor([[0.4507, 0.4371]], device='cuda:0', grad_fn=<SigmoidBackward0>) tensor([[0., 1.]], device='cuda:0')\n",
      "here tensor([[0.4506, 0.4369]], device='cuda:0', grad_fn=<SigmoidBackward0>) tensor([[0., 1.]], device='cuda:0')\n"
     ]
    },
    {
     "name": "stderr",
     "output_type": "stream",
     "text": [
      "Sampling t:  24%|██▍       | 49/200 [00:05<00:14, 10.18it/s]"
     ]
    },
    {
     "name": "stdout",
     "output_type": "stream",
     "text": [
      "here tensor([[0.4500, 0.4363]], device='cuda:0', grad_fn=<SigmoidBackward0>) tensor([[0., 1.]], device='cuda:0')\n",
      "here tensor([[0.4496, 0.4361]], device='cuda:0', grad_fn=<SigmoidBackward0>) tensor([[0., 1.]], device='cuda:0')\n",
      "here tensor([[0.4491, 0.4361]], device='cuda:0', grad_fn=<SigmoidBackward0>) tensor([[0., 1.]], device='cuda:0')\n"
     ]
    },
    {
     "name": "stderr",
     "output_type": "stream",
     "text": [
      "Sampling t:  26%|██▋       | 53/200 [00:06<00:14, 10.29it/s]"
     ]
    },
    {
     "name": "stdout",
     "output_type": "stream",
     "text": [
      "here tensor([[0.4495, 0.4363]], device='cuda:0', grad_fn=<SigmoidBackward0>) tensor([[0., 1.]], device='cuda:0')\n",
      "here tensor([[0.4498, 0.4368]], device='cuda:0', grad_fn=<SigmoidBackward0>) tensor([[0., 1.]], device='cuda:0')\n",
      "here tensor([[0.4499, 0.4369]], device='cuda:0', grad_fn=<SigmoidBackward0>) tensor([[0., 1.]], device='cuda:0')\n"
     ]
    },
    {
     "name": "stderr",
     "output_type": "stream",
     "text": [
      "Sampling t:  28%|██▊       | 55/200 [00:06<00:14, 10.29it/s]"
     ]
    },
    {
     "name": "stdout",
     "output_type": "stream",
     "text": [
      "here tensor([[0.4504, 0.4369]], device='cuda:0', grad_fn=<SigmoidBackward0>) tensor([[0., 1.]], device='cuda:0')\n",
      "here tensor([[0.4502, 0.4373]], device='cuda:0', grad_fn=<SigmoidBackward0>) tensor([[0., 1.]], device='cuda:0')\n",
      "here tensor([[0.4502, 0.4375]], device='cuda:0', grad_fn=<SigmoidBackward0>) tensor([[0., 1.]], device='cuda:0')\n"
     ]
    },
    {
     "name": "stderr",
     "output_type": "stream",
     "text": [
      "Sampling t:  30%|██▉       | 59/200 [00:06<00:13, 10.46it/s]"
     ]
    },
    {
     "name": "stdout",
     "output_type": "stream",
     "text": [
      "here tensor([[0.4501, 0.4373]], device='cuda:0', grad_fn=<SigmoidBackward0>) tensor([[0., 1.]], device='cuda:0')\n",
      "here tensor([[0.4500, 0.4372]], device='cuda:0', grad_fn=<SigmoidBackward0>) tensor([[0., 1.]], device='cuda:0')\n",
      "here tensor([[0.4494, 0.4372]], device='cuda:0', grad_fn=<SigmoidBackward0>) tensor([[0., 1.]], device='cuda:0')\n"
     ]
    },
    {
     "name": "stderr",
     "output_type": "stream",
     "text": [
      "Sampling t:  30%|███       | 61/200 [00:06<00:13, 10.52it/s]"
     ]
    },
    {
     "name": "stdout",
     "output_type": "stream",
     "text": [
      "here tensor([[0.4496, 0.4375]], device='cuda:0', grad_fn=<SigmoidBackward0>) tensor([[0., 1.]], device='cuda:0')\n",
      "here tensor([[0.4496, 0.4378]], device='cuda:0', grad_fn=<SigmoidBackward0>) tensor([[0., 1.]], device='cuda:0')\n",
      "here tensor([[0.4495, 0.4381]], device='cuda:0', grad_fn=<SigmoidBackward0>) tensor([[0., 1.]], device='cuda:0')\n"
     ]
    },
    {
     "name": "stderr",
     "output_type": "stream",
     "text": [
      "Sampling t:  32%|███▎      | 65/200 [00:07<00:12, 10.45it/s]"
     ]
    },
    {
     "name": "stdout",
     "output_type": "stream",
     "text": [
      "here tensor([[0.4498, 0.4387]], device='cuda:0', grad_fn=<SigmoidBackward0>) tensor([[0., 1.]], device='cuda:0')\n",
      "here tensor([[0.4499, 0.4388]], device='cuda:0', grad_fn=<SigmoidBackward0>) tensor([[0., 1.]], device='cuda:0')\n",
      "here tensor([[0.4495, 0.4386]], device='cuda:0', grad_fn=<SigmoidBackward0>) tensor([[0., 1.]], device='cuda:0')\n"
     ]
    },
    {
     "name": "stderr",
     "output_type": "stream",
     "text": [
      "Sampling t:  34%|███▎      | 67/200 [00:07<00:12, 10.36it/s]"
     ]
    },
    {
     "name": "stdout",
     "output_type": "stream",
     "text": [
      "here tensor([[0.4492, 0.4381]], device='cuda:0', grad_fn=<SigmoidBackward0>) tensor([[0., 1.]], device='cuda:0')\n",
      "here tensor([[0.4489, 0.4381]], device='cuda:0', grad_fn=<SigmoidBackward0>) tensor([[0., 1.]], device='cuda:0')\n",
      "here tensor([[0.4493, 0.4387]], device='cuda:0', grad_fn=<SigmoidBackward0>) tensor([[0., 1.]], device='cuda:0')\n"
     ]
    },
    {
     "name": "stderr",
     "output_type": "stream",
     "text": [
      "Sampling t:  36%|███▌      | 71/200 [00:07<00:12, 10.34it/s]"
     ]
    },
    {
     "name": "stdout",
     "output_type": "stream",
     "text": [
      "here tensor([[0.4495, 0.4388]], device='cuda:0', grad_fn=<SigmoidBackward0>) tensor([[0., 1.]], device='cuda:0')\n",
      "here tensor([[0.4496, 0.4393]], device='cuda:0', grad_fn=<SigmoidBackward0>) tensor([[0., 1.]], device='cuda:0')\n",
      "here tensor([[0.4496, 0.4391]], device='cuda:0', grad_fn=<SigmoidBackward0>) tensor([[0., 1.]], device='cuda:0')\n"
     ]
    },
    {
     "name": "stderr",
     "output_type": "stream",
     "text": [
      "Sampling t:  36%|███▋      | 73/200 [00:08<00:12, 10.33it/s]"
     ]
    },
    {
     "name": "stdout",
     "output_type": "stream",
     "text": [
      "here tensor([[0.4497, 0.4387]], device='cuda:0', grad_fn=<SigmoidBackward0>) tensor([[0., 1.]], device='cuda:0')\n",
      "here tensor([[0.4493, 0.4382]], device='cuda:0', grad_fn=<SigmoidBackward0>) tensor([[0., 1.]], device='cuda:0')\n",
      "here tensor([[0.4494, 0.4381]], device='cuda:0', grad_fn=<SigmoidBackward0>) tensor([[0., 1.]], device='cuda:0')\n"
     ]
    },
    {
     "name": "stderr",
     "output_type": "stream",
     "text": [
      "Sampling t:  38%|███▊      | 77/200 [00:08<00:11, 10.26it/s]"
     ]
    },
    {
     "name": "stdout",
     "output_type": "stream",
     "text": [
      "here tensor([[0.4497, 0.4385]], device='cuda:0', grad_fn=<SigmoidBackward0>) tensor([[0., 1.]], device='cuda:0')\n",
      "here tensor([[0.4502, 0.4390]], device='cuda:0', grad_fn=<SigmoidBackward0>) tensor([[0., 1.]], device='cuda:0')\n",
      "here tensor([[0.4505, 0.4392]], device='cuda:0', grad_fn=<SigmoidBackward0>) tensor([[0., 1.]], device='cuda:0')\n"
     ]
    },
    {
     "name": "stderr",
     "output_type": "stream",
     "text": [
      "Sampling t:  40%|███▉      | 79/200 [00:08<00:11, 10.27it/s]"
     ]
    },
    {
     "name": "stdout",
     "output_type": "stream",
     "text": [
      "here tensor([[0.4510, 0.4392]], device='cuda:0', grad_fn=<SigmoidBackward0>) tensor([[0., 1.]], device='cuda:0')\n",
      "here tensor([[0.4511, 0.4387]], device='cuda:0', grad_fn=<SigmoidBackward0>) tensor([[0., 1.]], device='cuda:0')\n",
      "here tensor([[0.4507, 0.4383]], device='cuda:0', grad_fn=<SigmoidBackward0>) tensor([[0., 1.]], device='cuda:0')\n"
     ]
    },
    {
     "name": "stderr",
     "output_type": "stream",
     "text": [
      "Sampling t:  42%|████▏     | 83/200 [00:09<00:11, 10.38it/s]"
     ]
    },
    {
     "name": "stdout",
     "output_type": "stream",
     "text": [
      "here tensor([[0.4508, 0.4382]], device='cuda:0', grad_fn=<SigmoidBackward0>) tensor([[0., 1.]], device='cuda:0')\n",
      "here tensor([[0.4512, 0.4391]], device='cuda:0', grad_fn=<SigmoidBackward0>) tensor([[0., 1.]], device='cuda:0')\n",
      "here tensor([[0.4515, 0.4399]], device='cuda:0', grad_fn=<SigmoidBackward0>) tensor([[0., 1.]], device='cuda:0')\n"
     ]
    },
    {
     "name": "stderr",
     "output_type": "stream",
     "text": [
      "Sampling t:  42%|████▎     | 85/200 [00:09<00:11, 10.44it/s]"
     ]
    },
    {
     "name": "stdout",
     "output_type": "stream",
     "text": [
      "here tensor([[0.4515, 0.4401]], device='cuda:0', grad_fn=<SigmoidBackward0>) tensor([[0., 1.]], device='cuda:0')\n",
      "here tensor([[0.4512, 0.4392]], device='cuda:0', grad_fn=<SigmoidBackward0>) tensor([[0., 1.]], device='cuda:0')\n",
      "here tensor([[0.4513, 0.4385]], device='cuda:0', grad_fn=<SigmoidBackward0>) tensor([[0., 1.]], device='cuda:0')\n"
     ]
    },
    {
     "name": "stderr",
     "output_type": "stream",
     "text": [
      "Sampling t:  44%|████▍     | 89/200 [00:09<00:10, 10.52it/s]"
     ]
    },
    {
     "name": "stdout",
     "output_type": "stream",
     "text": [
      "here tensor([[0.4512, 0.4377]], device='cuda:0', grad_fn=<SigmoidBackward0>) tensor([[0., 1.]], device='cuda:0')\n",
      "here tensor([[0.4513, 0.4377]], device='cuda:0', grad_fn=<SigmoidBackward0>) tensor([[0., 1.]], device='cuda:0')\n",
      "here tensor([[0.4513, 0.4383]], device='cuda:0', grad_fn=<SigmoidBackward0>) tensor([[0., 1.]], device='cuda:0')\n"
     ]
    },
    {
     "name": "stderr",
     "output_type": "stream",
     "text": [
      "Sampling t:  46%|████▌     | 91/200 [00:09<00:10, 10.59it/s]"
     ]
    },
    {
     "name": "stdout",
     "output_type": "stream",
     "text": [
      "here tensor([[0.4515, 0.4386]], device='cuda:0', grad_fn=<SigmoidBackward0>) tensor([[0., 1.]], device='cuda:0')\n",
      "here tensor([[0.4517, 0.4387]], device='cuda:0', grad_fn=<SigmoidBackward0>) tensor([[0., 1.]], device='cuda:0')\n",
      "here tensor([[0.4519, 0.4384]], device='cuda:0', grad_fn=<SigmoidBackward0>) tensor([[0., 1.]], device='cuda:0')\n"
     ]
    },
    {
     "name": "stderr",
     "output_type": "stream",
     "text": [
      "Sampling t:  46%|████▋     | 93/200 [00:10<00:10, 10.50it/s]"
     ]
    },
    {
     "name": "stdout",
     "output_type": "stream",
     "text": [
      "here tensor([[0.4519, 0.4379]], device='cuda:0', grad_fn=<SigmoidBackward0>) tensor([[0., 1.]], device='cuda:0')\n",
      "here tensor([[0.4517, 0.4378]], device='cuda:0', grad_fn=<SigmoidBackward0>) tensor([[0., 1.]], device='cuda:0')\n"
     ]
    },
    {
     "name": "stderr",
     "output_type": "stream",
     "text": [
      "Sampling t:  48%|████▊     | 96/200 [00:10<00:11,  9.09it/s]"
     ]
    },
    {
     "name": "stdout",
     "output_type": "stream",
     "text": [
      "here tensor([[0.4513, 0.4382]], device='cuda:0', grad_fn=<SigmoidBackward0>) tensor([[0., 1.]], device='cuda:0')\n",
      "here tensor([[0.4516, 0.4389]], device='cuda:0', grad_fn=<SigmoidBackward0>) tensor([[0., 1.]], device='cuda:0')\n"
     ]
    },
    {
     "name": "stderr",
     "output_type": "stream",
     "text": [
      "Sampling t:  49%|████▉     | 98/200 [00:10<00:12,  8.38it/s]"
     ]
    },
    {
     "name": "stdout",
     "output_type": "stream",
     "text": [
      "here tensor([[0.4517, 0.4394]], device='cuda:0', grad_fn=<SigmoidBackward0>) tensor([[0., 1.]], device='cuda:0')\n",
      "here tensor([[0.4518, 0.4393]], device='cuda:0', grad_fn=<SigmoidBackward0>) tensor([[0., 1.]], device='cuda:0')\n"
     ]
    },
    {
     "name": "stderr",
     "output_type": "stream",
     "text": [
      "Sampling t:  50%|█████     | 100/200 [00:10<00:12,  7.80it/s]"
     ]
    },
    {
     "name": "stdout",
     "output_type": "stream",
     "text": [
      "here tensor([[0.4519, 0.4393]], device='cuda:0', grad_fn=<SigmoidBackward0>) tensor([[0., 1.]], device='cuda:0')\n",
      "here tensor([[0.4518, 0.4389]], device='cuda:0', grad_fn=<SigmoidBackward0>) tensor([[0., 1.]], device='cuda:0')\n"
     ]
    },
    {
     "name": "stderr",
     "output_type": "stream",
     "text": [
      "Sampling t:  51%|█████     | 102/200 [00:11<00:13,  7.49it/s]"
     ]
    },
    {
     "name": "stdout",
     "output_type": "stream",
     "text": [
      "here tensor([[0.4520, 0.4390]], device='cuda:0', grad_fn=<SigmoidBackward0>) tensor([[0., 1.]], device='cuda:0')\n",
      "here tensor([[0.4519, 0.4393]], device='cuda:0', grad_fn=<SigmoidBackward0>) tensor([[0., 1.]], device='cuda:0')\n"
     ]
    },
    {
     "name": "stderr",
     "output_type": "stream",
     "text": [
      "Sampling t:  52%|█████▏    | 104/200 [00:11<00:13,  7.29it/s]"
     ]
    },
    {
     "name": "stdout",
     "output_type": "stream",
     "text": [
      "here tensor([[0.4518, 0.4398]], device='cuda:0', grad_fn=<SigmoidBackward0>) tensor([[0., 1.]], device='cuda:0')\n",
      "here tensor([[0.4518, 0.4399]], device='cuda:0', grad_fn=<SigmoidBackward0>) tensor([[0., 1.]], device='cuda:0')\n"
     ]
    },
    {
     "name": "stderr",
     "output_type": "stream",
     "text": [
      "Sampling t:  53%|█████▎    | 106/200 [00:11<00:12,  7.31it/s]"
     ]
    },
    {
     "name": "stdout",
     "output_type": "stream",
     "text": [
      "here tensor([[0.4515, 0.4397]], device='cuda:0', grad_fn=<SigmoidBackward0>) tensor([[0., 1.]], device='cuda:0')\n",
      "here tensor([[0.4515, 0.4393]], device='cuda:0', grad_fn=<SigmoidBackward0>) tensor([[0., 1.]], device='cuda:0')\n"
     ]
    },
    {
     "name": "stderr",
     "output_type": "stream",
     "text": [
      "Sampling t:  54%|█████▍    | 108/200 [00:12<00:12,  7.27it/s]"
     ]
    },
    {
     "name": "stdout",
     "output_type": "stream",
     "text": [
      "here tensor([[0.4514, 0.4390]], device='cuda:0', grad_fn=<SigmoidBackward0>) tensor([[0., 1.]], device='cuda:0')\n",
      "here tensor([[0.4517, 0.4392]], device='cuda:0', grad_fn=<SigmoidBackward0>) tensor([[0., 1.]], device='cuda:0')\n"
     ]
    },
    {
     "name": "stderr",
     "output_type": "stream",
     "text": [
      "Sampling t:  55%|█████▌    | 110/200 [00:12<00:12,  7.23it/s]"
     ]
    },
    {
     "name": "stdout",
     "output_type": "stream",
     "text": [
      "here tensor([[0.4519, 0.4392]], device='cuda:0', grad_fn=<SigmoidBackward0>) tensor([[0., 1.]], device='cuda:0')\n",
      "here tensor([[0.4520, 0.4391]], device='cuda:0', grad_fn=<SigmoidBackward0>) tensor([[0., 1.]], device='cuda:0')\n"
     ]
    },
    {
     "name": "stderr",
     "output_type": "stream",
     "text": [
      "Sampling t:  56%|█████▌    | 112/200 [00:12<00:12,  7.20it/s]"
     ]
    },
    {
     "name": "stdout",
     "output_type": "stream",
     "text": [
      "here tensor([[0.4520, 0.4389]], device='cuda:0', grad_fn=<SigmoidBackward0>) tensor([[0., 1.]], device='cuda:0')\n",
      "here tensor([[0.4520, 0.4386]], device='cuda:0', grad_fn=<SigmoidBackward0>) tensor([[0., 1.]], device='cuda:0')\n"
     ]
    },
    {
     "name": "stderr",
     "output_type": "stream",
     "text": [
      "Sampling t:  57%|█████▋    | 114/200 [00:12<00:11,  7.22it/s]"
     ]
    },
    {
     "name": "stdout",
     "output_type": "stream",
     "text": [
      "here tensor([[0.4518, 0.4382]], device='cuda:0', grad_fn=<SigmoidBackward0>) tensor([[0., 1.]], device='cuda:0')\n",
      "here tensor([[0.4515, 0.4382]], device='cuda:0', grad_fn=<SigmoidBackward0>) tensor([[0., 1.]], device='cuda:0')\n"
     ]
    },
    {
     "name": "stderr",
     "output_type": "stream",
     "text": [
      "Sampling t:  58%|█████▊    | 116/200 [00:13<00:11,  7.13it/s]"
     ]
    },
    {
     "name": "stdout",
     "output_type": "stream",
     "text": [
      "here tensor([[0.4516, 0.4381]], device='cuda:0', grad_fn=<SigmoidBackward0>) tensor([[0., 1.]], device='cuda:0')\n",
      "here tensor([[0.4520, 0.4386]], device='cuda:0', grad_fn=<SigmoidBackward0>) tensor([[0., 1.]], device='cuda:0')\n"
     ]
    },
    {
     "name": "stderr",
     "output_type": "stream",
     "text": [
      "Sampling t:  59%|█████▉    | 118/200 [00:13<00:11,  7.02it/s]"
     ]
    },
    {
     "name": "stdout",
     "output_type": "stream",
     "text": [
      "here tensor([[0.4525, 0.4387]], device='cuda:0', grad_fn=<SigmoidBackward0>) tensor([[0., 1.]], device='cuda:0')\n",
      "here tensor([[0.4527, 0.4391]], device='cuda:0', grad_fn=<SigmoidBackward0>) tensor([[0., 1.]], device='cuda:0')\n"
     ]
    },
    {
     "name": "stderr",
     "output_type": "stream",
     "text": [
      "Sampling t:  60%|██████    | 120/200 [00:13<00:11,  7.17it/s]"
     ]
    },
    {
     "name": "stdout",
     "output_type": "stream",
     "text": [
      "here tensor([[0.4528, 0.4388]], device='cuda:0', grad_fn=<SigmoidBackward0>) tensor([[0., 1.]], device='cuda:0')\n",
      "here tensor([[0.4527, 0.4386]], device='cuda:0', grad_fn=<SigmoidBackward0>) tensor([[0., 1.]], device='cuda:0')\n"
     ]
    },
    {
     "name": "stderr",
     "output_type": "stream",
     "text": [
      "Sampling t:  61%|██████    | 122/200 [00:14<00:10,  7.10it/s]"
     ]
    },
    {
     "name": "stdout",
     "output_type": "stream",
     "text": [
      "here tensor([[0.4527, 0.4388]], device='cuda:0', grad_fn=<SigmoidBackward0>) tensor([[0., 1.]], device='cuda:0')\n",
      "here tensor([[0.4526, 0.4389]], device='cuda:0', grad_fn=<SigmoidBackward0>) tensor([[0., 1.]], device='cuda:0')\n"
     ]
    },
    {
     "name": "stderr",
     "output_type": "stream",
     "text": [
      "Sampling t:  62%|██████▏   | 124/200 [00:14<00:10,  7.12it/s]"
     ]
    },
    {
     "name": "stdout",
     "output_type": "stream",
     "text": [
      "here tensor([[0.4527, 0.4390]], device='cuda:0', grad_fn=<SigmoidBackward0>) tensor([[0., 1.]], device='cuda:0')\n",
      "here tensor([[0.4528, 0.4388]], device='cuda:0', grad_fn=<SigmoidBackward0>) tensor([[0., 1.]], device='cuda:0')\n"
     ]
    },
    {
     "name": "stderr",
     "output_type": "stream",
     "text": [
      "Sampling t:  63%|██████▎   | 126/200 [00:14<00:10,  7.13it/s]"
     ]
    },
    {
     "name": "stdout",
     "output_type": "stream",
     "text": [
      "here tensor([[0.4528, 0.4387]], device='cuda:0', grad_fn=<SigmoidBackward0>) tensor([[0., 1.]], device='cuda:0')\n",
      "here tensor([[0.4528, 0.4385]], device='cuda:0', grad_fn=<SigmoidBackward0>) tensor([[0., 1.]], device='cuda:0')\n"
     ]
    },
    {
     "name": "stderr",
     "output_type": "stream",
     "text": [
      "Sampling t:  64%|██████▍   | 128/200 [00:14<00:10,  7.08it/s]"
     ]
    },
    {
     "name": "stdout",
     "output_type": "stream",
     "text": [
      "here tensor([[0.4531, 0.4387]], device='cuda:0', grad_fn=<SigmoidBackward0>) tensor([[0., 1.]], device='cuda:0')\n",
      "here tensor([[0.4532, 0.4386]], device='cuda:0', grad_fn=<SigmoidBackward0>) tensor([[0., 1.]], device='cuda:0')\n"
     ]
    },
    {
     "name": "stderr",
     "output_type": "stream",
     "text": [
      "Sampling t:  65%|██████▌   | 130/200 [00:15<00:09,  7.22it/s]"
     ]
    },
    {
     "name": "stdout",
     "output_type": "stream",
     "text": [
      "here tensor([[0.4531, 0.4383]], device='cuda:0', grad_fn=<SigmoidBackward0>) tensor([[0., 1.]], device='cuda:0')\n",
      "here tensor([[0.4531, 0.4383]], device='cuda:0', grad_fn=<SigmoidBackward0>) tensor([[0., 1.]], device='cuda:0')\n"
     ]
    },
    {
     "name": "stderr",
     "output_type": "stream",
     "text": [
      "Sampling t:  66%|██████▌   | 132/200 [00:15<00:09,  7.16it/s]"
     ]
    },
    {
     "name": "stdout",
     "output_type": "stream",
     "text": [
      "here tensor([[0.4530, 0.4384]], device='cuda:0', grad_fn=<SigmoidBackward0>) tensor([[0., 1.]], device='cuda:0')\n",
      "here tensor([[0.4528, 0.4383]], device='cuda:0', grad_fn=<SigmoidBackward0>) tensor([[0., 1.]], device='cuda:0')\n"
     ]
    },
    {
     "name": "stderr",
     "output_type": "stream",
     "text": [
      "Sampling t:  67%|██████▋   | 134/200 [00:15<00:09,  7.13it/s]"
     ]
    },
    {
     "name": "stdout",
     "output_type": "stream",
     "text": [
      "here tensor([[0.4529, 0.4385]], device='cuda:0', grad_fn=<SigmoidBackward0>) tensor([[0., 1.]], device='cuda:0')\n",
      "here tensor([[0.4526, 0.4387]], device='cuda:0', grad_fn=<SigmoidBackward0>) tensor([[0., 1.]], device='cuda:0')\n"
     ]
    },
    {
     "name": "stderr",
     "output_type": "stream",
     "text": [
      "Sampling t:  68%|██████▊   | 136/200 [00:16<00:09,  7.00it/s]"
     ]
    },
    {
     "name": "stdout",
     "output_type": "stream",
     "text": [
      "here tensor([[0.4527, 0.4389]], device='cuda:0', grad_fn=<SigmoidBackward0>) tensor([[0., 1.]], device='cuda:0')\n",
      "here tensor([[0.4532, 0.4387]], device='cuda:0', grad_fn=<SigmoidBackward0>) tensor([[0., 1.]], device='cuda:0')\n"
     ]
    },
    {
     "name": "stderr",
     "output_type": "stream",
     "text": [
      "Sampling t:  69%|██████▉   | 138/200 [00:16<00:09,  6.86it/s]"
     ]
    },
    {
     "name": "stdout",
     "output_type": "stream",
     "text": [
      "here tensor([[0.4533, 0.4383]], device='cuda:0', grad_fn=<SigmoidBackward0>) tensor([[0., 1.]], device='cuda:0')\n",
      "here tensor([[0.4529, 0.4382]], device='cuda:0', grad_fn=<SigmoidBackward0>) tensor([[0., 1.]], device='cuda:0')\n"
     ]
    },
    {
     "name": "stderr",
     "output_type": "stream",
     "text": [
      "Sampling t:  70%|███████   | 140/200 [00:16<00:08,  6.92it/s]"
     ]
    },
    {
     "name": "stdout",
     "output_type": "stream",
     "text": [
      "here tensor([[0.4529, 0.4382]], device='cuda:0', grad_fn=<SigmoidBackward0>) tensor([[0., 1.]], device='cuda:0')\n",
      "here tensor([[0.4529, 0.4387]], device='cuda:0', grad_fn=<SigmoidBackward0>) tensor([[0., 1.]], device='cuda:0')\n"
     ]
    },
    {
     "name": "stderr",
     "output_type": "stream",
     "text": [
      "Sampling t:  71%|███████   | 142/200 [00:16<00:08,  6.86it/s]"
     ]
    },
    {
     "name": "stdout",
     "output_type": "stream",
     "text": [
      "here tensor([[0.4528, 0.4389]], device='cuda:0', grad_fn=<SigmoidBackward0>) tensor([[0., 1.]], device='cuda:0')\n",
      "here tensor([[0.4531, 0.4386]], device='cuda:0', grad_fn=<SigmoidBackward0>) tensor([[0., 1.]], device='cuda:0')\n"
     ]
    },
    {
     "name": "stderr",
     "output_type": "stream",
     "text": [
      "Sampling t:  72%|███████▏  | 144/200 [00:17<00:08,  6.56it/s]"
     ]
    },
    {
     "name": "stdout",
     "output_type": "stream",
     "text": [
      "here tensor([[0.4533, 0.4388]], device='cuda:0', grad_fn=<SigmoidBackward0>) tensor([[0., 1.]], device='cuda:0')\n",
      "here tensor([[0.4537, 0.4388]], device='cuda:0', grad_fn=<SigmoidBackward0>) tensor([[0., 1.]], device='cuda:0')\n"
     ]
    },
    {
     "name": "stderr",
     "output_type": "stream",
     "text": [
      "Sampling t:  73%|███████▎  | 146/200 [00:17<00:08,  6.31it/s]"
     ]
    },
    {
     "name": "stdout",
     "output_type": "stream",
     "text": [
      "here tensor([[0.4539, 0.4389]], device='cuda:0', grad_fn=<SigmoidBackward0>) tensor([[0., 1.]], device='cuda:0')\n",
      "here tensor([[0.4541, 0.4388]], device='cuda:0', grad_fn=<SigmoidBackward0>) tensor([[0., 1.]], device='cuda:0')\n"
     ]
    },
    {
     "name": "stderr",
     "output_type": "stream",
     "text": [
      "Sampling t:  74%|███████▍  | 148/200 [00:17<00:08,  6.31it/s]"
     ]
    },
    {
     "name": "stdout",
     "output_type": "stream",
     "text": [
      "here tensor([[0.4539, 0.4388]], device='cuda:0', grad_fn=<SigmoidBackward0>) tensor([[0., 1.]], device='cuda:0')\n",
      "here tensor([[0.4536, 0.4388]], device='cuda:0', grad_fn=<SigmoidBackward0>) tensor([[0., 1.]], device='cuda:0')\n"
     ]
    },
    {
     "name": "stderr",
     "output_type": "stream",
     "text": [
      "Sampling t:  75%|███████▌  | 150/200 [00:18<00:07,  6.29it/s]"
     ]
    },
    {
     "name": "stdout",
     "output_type": "stream",
     "text": [
      "here tensor([[0.4538, 0.4391]], device='cuda:0', grad_fn=<SigmoidBackward0>) tensor([[0., 1.]], device='cuda:0')\n",
      "here tensor([[0.4538, 0.4393]], device='cuda:0', grad_fn=<SigmoidBackward0>) tensor([[0., 1.]], device='cuda:0')\n"
     ]
    },
    {
     "name": "stderr",
     "output_type": "stream",
     "text": [
      "Sampling t:  76%|███████▌  | 152/200 [00:18<00:07,  6.32it/s]"
     ]
    },
    {
     "name": "stdout",
     "output_type": "stream",
     "text": [
      "here tensor([[0.4535, 0.4389]], device='cuda:0', grad_fn=<SigmoidBackward0>) tensor([[0., 1.]], device='cuda:0')\n",
      "here tensor([[0.4534, 0.4389]], device='cuda:0', grad_fn=<SigmoidBackward0>) tensor([[0., 1.]], device='cuda:0')\n"
     ]
    },
    {
     "name": "stderr",
     "output_type": "stream",
     "text": [
      "Sampling t:  77%|███████▋  | 154/200 [00:18<00:07,  6.33it/s]"
     ]
    },
    {
     "name": "stdout",
     "output_type": "stream",
     "text": [
      "here tensor([[0.4532, 0.4386]], device='cuda:0', grad_fn=<SigmoidBackward0>) tensor([[0., 1.]], device='cuda:0')\n",
      "here tensor([[0.4526, 0.4383]], device='cuda:0', grad_fn=<SigmoidBackward0>) tensor([[0., 1.]], device='cuda:0')\n"
     ]
    },
    {
     "name": "stderr",
     "output_type": "stream",
     "text": [
      "Sampling t:  78%|███████▊  | 156/200 [00:19<00:06,  6.30it/s]"
     ]
    },
    {
     "name": "stdout",
     "output_type": "stream",
     "text": [
      "here tensor([[0.4524, 0.4382]], device='cuda:0', grad_fn=<SigmoidBackward0>) tensor([[0., 1.]], device='cuda:0')\n",
      "here tensor([[0.4525, 0.4383]], device='cuda:0', grad_fn=<SigmoidBackward0>) tensor([[0., 1.]], device='cuda:0')\n"
     ]
    },
    {
     "name": "stderr",
     "output_type": "stream",
     "text": [
      "Sampling t:  79%|███████▉  | 158/200 [00:19<00:06,  6.28it/s]"
     ]
    },
    {
     "name": "stdout",
     "output_type": "stream",
     "text": [
      "here tensor([[0.4528, 0.4388]], device='cuda:0', grad_fn=<SigmoidBackward0>) tensor([[0., 1.]], device='cuda:0')\n",
      "here tensor([[0.4533, 0.4391]], device='cuda:0', grad_fn=<SigmoidBackward0>) tensor([[0., 1.]], device='cuda:0')\n"
     ]
    },
    {
     "name": "stderr",
     "output_type": "stream",
     "text": [
      "Sampling t:  80%|████████  | 160/200 [00:19<00:06,  6.26it/s]"
     ]
    },
    {
     "name": "stdout",
     "output_type": "stream",
     "text": [
      "here tensor([[0.4537, 0.4390]], device='cuda:0', grad_fn=<SigmoidBackward0>) tensor([[0., 1.]], device='cuda:0')\n",
      "here tensor([[0.4536, 0.4389]], device='cuda:0', grad_fn=<SigmoidBackward0>) tensor([[0., 1.]], device='cuda:0')\n"
     ]
    },
    {
     "name": "stderr",
     "output_type": "stream",
     "text": [
      "Sampling t:  81%|████████  | 162/200 [00:20<00:06,  6.29it/s]"
     ]
    },
    {
     "name": "stdout",
     "output_type": "stream",
     "text": [
      "here tensor([[0.4536, 0.4386]], device='cuda:0', grad_fn=<SigmoidBackward0>) tensor([[0., 1.]], device='cuda:0')\n",
      "here tensor([[0.4536, 0.4385]], device='cuda:0', grad_fn=<SigmoidBackward0>) tensor([[0., 1.]], device='cuda:0')\n"
     ]
    },
    {
     "name": "stderr",
     "output_type": "stream",
     "text": [
      "Sampling t:  82%|████████▏ | 164/200 [00:20<00:05,  6.30it/s]"
     ]
    },
    {
     "name": "stdout",
     "output_type": "stream",
     "text": [
      "here tensor([[0.4534, 0.4386]], device='cuda:0', grad_fn=<SigmoidBackward0>) tensor([[0., 1.]], device='cuda:0')\n",
      "here tensor([[0.4533, 0.4387]], device='cuda:0', grad_fn=<SigmoidBackward0>) tensor([[0., 1.]], device='cuda:0')\n"
     ]
    },
    {
     "name": "stderr",
     "output_type": "stream",
     "text": [
      "Sampling t:  83%|████████▎ | 166/200 [00:20<00:05,  6.30it/s]"
     ]
    },
    {
     "name": "stdout",
     "output_type": "stream",
     "text": [
      "here tensor([[0.4536, 0.4386]], device='cuda:0', grad_fn=<SigmoidBackward0>) tensor([[0., 1.]], device='cuda:0')\n",
      "here tensor([[0.4535, 0.4383]], device='cuda:0', grad_fn=<SigmoidBackward0>) tensor([[0., 1.]], device='cuda:0')\n"
     ]
    },
    {
     "name": "stderr",
     "output_type": "stream",
     "text": [
      "Sampling t:  84%|████████▍ | 168/200 [00:21<00:05,  6.25it/s]"
     ]
    },
    {
     "name": "stdout",
     "output_type": "stream",
     "text": [
      "here tensor([[0.4529, 0.4380]], device='cuda:0', grad_fn=<SigmoidBackward0>) tensor([[0., 1.]], device='cuda:0')\n",
      "here tensor([[0.4529, 0.4379]], device='cuda:0', grad_fn=<SigmoidBackward0>) tensor([[0., 1.]], device='cuda:0')\n"
     ]
    },
    {
     "name": "stderr",
     "output_type": "stream",
     "text": [
      "Sampling t:  85%|████████▌ | 170/200 [00:21<00:04,  6.22it/s]"
     ]
    },
    {
     "name": "stdout",
     "output_type": "stream",
     "text": [
      "here tensor([[0.4528, 0.4380]], device='cuda:0', grad_fn=<SigmoidBackward0>) tensor([[0., 1.]], device='cuda:0')\n",
      "here tensor([[0.4525, 0.4380]], device='cuda:0', grad_fn=<SigmoidBackward0>) tensor([[0., 1.]], device='cuda:0')\n"
     ]
    },
    {
     "name": "stderr",
     "output_type": "stream",
     "text": [
      "Sampling t:  86%|████████▌ | 172/200 [00:21<00:04,  6.22it/s]"
     ]
    },
    {
     "name": "stdout",
     "output_type": "stream",
     "text": [
      "here tensor([[0.4526, 0.4383]], device='cuda:0', grad_fn=<SigmoidBackward0>) tensor([[0., 1.]], device='cuda:0')\n",
      "here tensor([[0.4527, 0.4383]], device='cuda:0', grad_fn=<SigmoidBackward0>) tensor([[0., 1.]], device='cuda:0')\n"
     ]
    },
    {
     "name": "stderr",
     "output_type": "stream",
     "text": [
      "Sampling t:  87%|████████▋ | 174/200 [00:22<00:04,  6.23it/s]"
     ]
    },
    {
     "name": "stdout",
     "output_type": "stream",
     "text": [
      "here tensor([[0.4525, 0.4381]], device='cuda:0', grad_fn=<SigmoidBackward0>) tensor([[0., 1.]], device='cuda:0')\n",
      "here tensor([[0.4527, 0.4382]], device='cuda:0', grad_fn=<SigmoidBackward0>) tensor([[0., 1.]], device='cuda:0')\n"
     ]
    },
    {
     "name": "stderr",
     "output_type": "stream",
     "text": [
      "Sampling t:  88%|████████▊ | 176/200 [00:22<00:03,  6.28it/s]"
     ]
    },
    {
     "name": "stdout",
     "output_type": "stream",
     "text": [
      "here tensor([[0.4528, 0.4384]], device='cuda:0', grad_fn=<SigmoidBackward0>) tensor([[0., 1.]], device='cuda:0')\n",
      "here tensor([[0.4533, 0.4385]], device='cuda:0', grad_fn=<SigmoidBackward0>) tensor([[0., 1.]], device='cuda:0')\n"
     ]
    },
    {
     "name": "stderr",
     "output_type": "stream",
     "text": [
      "Sampling t:  89%|████████▉ | 178/200 [00:22<00:03,  6.20it/s]"
     ]
    },
    {
     "name": "stdout",
     "output_type": "stream",
     "text": [
      "here tensor([[0.4531, 0.4386]], device='cuda:0', grad_fn=<SigmoidBackward0>) tensor([[0., 1.]], device='cuda:0')\n",
      "here tensor([[0.4528, 0.4382]], device='cuda:0', grad_fn=<SigmoidBackward0>) tensor([[0., 1.]], device='cuda:0')\n"
     ]
    },
    {
     "name": "stderr",
     "output_type": "stream",
     "text": [
      "Sampling t:  90%|█████████ | 180/200 [00:22<00:03,  6.19it/s]"
     ]
    },
    {
     "name": "stdout",
     "output_type": "stream",
     "text": [
      "here tensor([[0.4524, 0.4377]], device='cuda:0', grad_fn=<SigmoidBackward0>) tensor([[0., 1.]], device='cuda:0')\n",
      "here tensor([[0.4524, 0.4375]], device='cuda:0', grad_fn=<SigmoidBackward0>) tensor([[0., 1.]], device='cuda:0')\n"
     ]
    },
    {
     "name": "stderr",
     "output_type": "stream",
     "text": [
      "Sampling t:  91%|█████████ | 182/200 [00:23<00:02,  6.24it/s]"
     ]
    },
    {
     "name": "stdout",
     "output_type": "stream",
     "text": [
      "here tensor([[0.4520, 0.4368]], device='cuda:0', grad_fn=<SigmoidBackward0>) tensor([[0., 1.]], device='cuda:0')\n",
      "here tensor([[0.4522, 0.4366]], device='cuda:0', grad_fn=<SigmoidBackward0>) tensor([[0., 1.]], device='cuda:0')\n"
     ]
    },
    {
     "name": "stderr",
     "output_type": "stream",
     "text": [
      "Sampling t:  92%|█████████▏| 184/200 [00:23<00:02,  6.26it/s]"
     ]
    },
    {
     "name": "stdout",
     "output_type": "stream",
     "text": [
      "here tensor([[0.4519, 0.4366]], device='cuda:0', grad_fn=<SigmoidBackward0>) tensor([[0., 1.]], device='cuda:0')\n",
      "here tensor([[0.4515, 0.4364]], device='cuda:0', grad_fn=<SigmoidBackward0>) tensor([[0., 1.]], device='cuda:0')\n"
     ]
    },
    {
     "name": "stderr",
     "output_type": "stream",
     "text": [
      "Sampling t:  93%|█████████▎| 186/200 [00:23<00:02,  6.30it/s]"
     ]
    },
    {
     "name": "stdout",
     "output_type": "stream",
     "text": [
      "here tensor([[0.4514, 0.4362]], device='cuda:0', grad_fn=<SigmoidBackward0>) tensor([[0., 1.]], device='cuda:0')\n",
      "here tensor([[0.4510, 0.4357]], device='cuda:0', grad_fn=<SigmoidBackward0>) tensor([[0., 1.]], device='cuda:0')\n"
     ]
    },
    {
     "name": "stderr",
     "output_type": "stream",
     "text": [
      "Sampling t:  94%|█████████▍| 188/200 [00:24<00:01,  6.32it/s]"
     ]
    },
    {
     "name": "stdout",
     "output_type": "stream",
     "text": [
      "here tensor([[0.4513, 0.4353]], device='cuda:0', grad_fn=<SigmoidBackward0>) tensor([[0., 1.]], device='cuda:0')\n",
      "here tensor([[0.4509, 0.4355]], device='cuda:0', grad_fn=<SigmoidBackward0>) tensor([[0., 1.]], device='cuda:0')\n"
     ]
    },
    {
     "name": "stderr",
     "output_type": "stream",
     "text": [
      "Sampling t:  95%|█████████▌| 190/200 [00:24<00:01,  6.31it/s]"
     ]
    },
    {
     "name": "stdout",
     "output_type": "stream",
     "text": [
      "here tensor([[0.4508, 0.4352]], device='cuda:0', grad_fn=<SigmoidBackward0>) tensor([[0., 1.]], device='cuda:0')\n",
      "here tensor([[0.4503, 0.4349]], device='cuda:0', grad_fn=<SigmoidBackward0>) tensor([[0., 1.]], device='cuda:0')\n"
     ]
    },
    {
     "name": "stderr",
     "output_type": "stream",
     "text": [
      "Sampling t:  96%|█████████▌| 192/200 [00:24<00:01,  6.32it/s]"
     ]
    },
    {
     "name": "stdout",
     "output_type": "stream",
     "text": [
      "here tensor([[0.4495, 0.4338]], device='cuda:0', grad_fn=<SigmoidBackward0>) tensor([[0., 1.]], device='cuda:0')\n",
      "here tensor([[0.4486, 0.4329]], device='cuda:0', grad_fn=<SigmoidBackward0>) tensor([[0., 1.]], device='cuda:0')\n"
     ]
    },
    {
     "name": "stderr",
     "output_type": "stream",
     "text": [
      "Sampling t:  97%|█████████▋| 194/200 [00:25<00:00,  6.27it/s]"
     ]
    },
    {
     "name": "stdout",
     "output_type": "stream",
     "text": [
      "here tensor([[0.4480, 0.4321]], device='cuda:0', grad_fn=<SigmoidBackward0>) tensor([[0., 1.]], device='cuda:0')\n",
      "here tensor([[0.4479, 0.4327]], device='cuda:0', grad_fn=<SigmoidBackward0>) tensor([[0., 1.]], device='cuda:0')\n"
     ]
    },
    {
     "name": "stderr",
     "output_type": "stream",
     "text": [
      "Sampling t:  98%|█████████▊| 196/200 [00:25<00:00,  6.28it/s]"
     ]
    },
    {
     "name": "stdout",
     "output_type": "stream",
     "text": [
      "here tensor([[0.4474, 0.4326]], device='cuda:0', grad_fn=<SigmoidBackward0>) tensor([[0., 1.]], device='cuda:0')\n",
      "here tensor([[0.4461, 0.4316]], device='cuda:0', grad_fn=<SigmoidBackward0>) tensor([[0., 1.]], device='cuda:0')\n"
     ]
    },
    {
     "name": "stderr",
     "output_type": "stream",
     "text": [
      "Sampling t:  99%|█████████▉| 198/200 [00:25<00:00,  6.25it/s]"
     ]
    },
    {
     "name": "stdout",
     "output_type": "stream",
     "text": [
      "here tensor([[0.4405, 0.4255]], device='cuda:0', grad_fn=<SigmoidBackward0>) tensor([[0., 1.]], device='cuda:0')\n",
      "here tensor([[0.4182, 0.4124]], device='cuda:0', grad_fn=<SigmoidBackward0>) tensor([[0., 1.]], device='cuda:0')\n"
     ]
    },
    {
     "name": "stderr",
     "output_type": "stream",
     "text": [
      "Sampling t: 100%|██████████| 200/200 [00:26<00:00,  7.64it/s]\n"
     ]
    },
    {
     "name": "stdout",
     "output_type": "stream",
     "text": [
      "here tensor([[0.3260, 0.4542]], device='cuda:0', grad_fn=<SigmoidBackward0>) tensor([[0., 1.]], device='cuda:0')\n"
     ]
    }
   ],
   "source": [
    "shape = z_noisy.shape\n",
    "samples = model.p_sample_loop(cond=None, shape = shape, original_img = img_original, return_intermediates=False, x_T=z_noisy, start_T=200)\n",
    "x_samples = model.decode_first_stage(samples)"
   ]
  },
  {
   "cell_type": "code",
   "execution_count": 10,
   "metadata": {},
   "outputs": [
    {
     "data": {
      "text/plain": [
       "torch.Size([1, 1, 256, 256])"
      ]
     },
     "execution_count": 10,
     "metadata": {},
     "output_type": "execute_result"
    }
   ],
   "source": [
    "x_samples.shape"
   ]
  },
  {
   "cell_type": "markdown",
   "metadata": {},
   "source": [
    "PLOT IMGS"
   ]
  },
  {
   "cell_type": "code",
   "execution_count": 11,
   "metadata": {},
   "outputs": [
    {
     "data": {
      "text/plain": [
       "Text(0.5, 0.98, 'Cardiomegaly')"
      ]
     },
     "execution_count": 11,
     "metadata": {},
     "output_type": "execute_result"
    },
    {
     "data": {
      "image/png": "[encoded data removed]",
      "text/plain": [
       "<Figure size 1200x400 with 3 Axes>"
      ]
     },
     "metadata": {},
     "output_type": "display_data"
    }
   ],
   "source": [
    "idx_from_batch = 0\n",
    "\n",
    "fig, axes = plt.subplots(1, 3, figsize=(12, 4))\n",
    "\n",
    "\n",
    "# Plot the images on the subplots\n",
    "denoised_guided = x_samples.cpu()[idx_from_batch].permute(1,2,0)\n",
    "img_ref = img_original.cpu()[idx_from_batch].permute(1,2,0)\n",
    "diff = abs(denoised_guided - img_ref)\n",
    "\n",
    "ax = 0\n",
    "axes[ax].imshow(denoised_guided, cmap='gray')\n",
    "axes[ax].axis('off')\n",
    "\n",
    "ax +=1\n",
    "axes[ax].imshow(img_ref, cmap='gray')\n",
    "axes[ax].axis('off')\n",
    "\n",
    "ax +=1\n",
    "\n",
    "\n",
    "x, y, w, h = bbox[idx_from_batch][0], bbox[idx_from_batch][1],bbox[idx_from_batch][2], bbox[idx_from_batch][3]\n",
    "# Scale the bounding box coordinates from 1024x1024 to 256x256\n",
    "scaled_x = x * 0.25\n",
    "scaled_y = y * 0.25\n",
    "scaled_w = w * 0.25\n",
    "scaled_h = h * 0.25\n",
    "\n",
    "# Create a rectangle patch using the scaled coordinates\n",
    "rect = patches.Rectangle((scaled_x, scaled_y), scaled_w, scaled_h, linewidth=1, edgecolor='r', facecolor='none')\n",
    "\n",
    "# Add the rectangle patch to the plot\n",
    "axes[ax].add_patch(rect)\n",
    "\n",
    "\n",
    "axes[ax].imshow(diff)\n",
    "axes[ax].axis('off')\n",
    "\n",
    "fig.suptitle(ret[3][0][idx_from_batch])\n",
    "\n"
   ]
  },
  {
   "cell_type": "code",
   "execution_count": 12,
   "metadata": {},
   "outputs": [
    {
     "data": {
      "text/plain": [
       "'eps'"
      ]
     },
     "execution_count": 12,
     "metadata": {},
     "output_type": "execute_result"
    }
   ],
   "source": [
    "model.parameterization"
   ]
  },
  {
   "cell_type": "code",
   "execution_count": null,
   "metadata": {},
   "outputs": [],
   "source": []
  }
 ],
 "metadata": {
  "kernelspec": {
   "display_name": "ldm",
   "language": "python",
   "name": "python3"
  },
  "language_info": {
   "codemirror_mode": {
    "name": "ipython",
    "version": 3
   },
   "file_extension": ".py",
   "mimetype": "text/x-python",
   "name": "python",
   "nbconvert_exporter": "python",
   "pygments_lexer": "ipython3",
   "version": "3.8.5"
  }
 },
 "nbformat": 4,
 "nbformat_minor": 2
}
